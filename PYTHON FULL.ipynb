{
 "cells": [
  {
   "cell_type": "code",
   "execution_count": 6,
   "metadata": {
    "scrolled": true
   },
   "outputs": [
    {
     "name": "stdout",
     "output_type": "stream",
     "text": [
      "Hello world\n"
     ]
    }
   ],
   "source": [
    "print('Hello world')"
   ]
  },
  {
   "cell_type": "code",
   "execution_count": 7,
   "metadata": {},
   "outputs": [],
   "source": [
    "# pip is used to install modules like os, numpy etc"
   ]
  },
  {
   "cell_type": "code",
   "execution_count": 8,
   "metadata": {},
   "outputs": [
    {
     "data": {
      "text/plain": [
       "'This is a comment too'"
      ]
     },
     "execution_count": 8,
     "metadata": {},
     "output_type": "execute_result"
    }
   ],
   "source": [
    "'''This is a comment too'''"
   ]
  },
  {
   "cell_type": "code",
   "execution_count": 9,
   "metadata": {},
   "outputs": [
    {
     "name": "stdout",
     "output_type": "stream",
     "text": [
      "['.android', '.atom', '.bash_history', '.cache', '.conda', '.condarc', '.config', '.eclipse', '.expo', '.ipynb_checkpoints', '.ipython', '.jupyter', '.keras', '.matplotlib', '.node_repl_history', '.openshot_qt', '.p2', '.tooling', '.VirtualBox', '.vscode', '.windows-build-tools', '01fe18bcs249.mp4', '025f3233-b47e-452e-b6a4-0d3fa857d027.jpg', 'anaconda3', 'AppData', 'Application Data', 'assessment', 'chat', 'Contacts', 'Cookies', 'd4ac4633ebd6440fa397b84f1bc94a3c.7z', 'Desktop', 'Documents', 'Downloads', 'eclipse', 'Favorites', 'first.txt', 'index.js', 'inittk.ini', 'inst.ini', 'IntelGraphicsProfiles', 'Links', 'Local Settings', 'Music', 'My Documents', 'my-first-project', 'NetHood', 'Nox_share', 'NTUSER.DAT', 'ntuser.dat.LOG1', 'ntuser.dat.LOG2', 'NTUSER.DAT{77a2c7ed-26f0-11e5-80da-e41d2d741090}.TM.blf', 'NTUSER.DAT{77a2c7ed-26f0-11e5-80da-e41d2d741090}.TMContainer00000000000000000001.regtrans-ms', 'NTUSER.DAT{77a2c7ed-26f0-11e5-80da-e41d2d741090}.TMContainer00000000000000000002.regtrans-ms', 'ntuser.ini', 'nuuid.ini', 'OneDrive', 'ph.txt', 'Pictures', 'PrintHood', 'PYTHON FULL.ipynb', 'Recent', 'Saved Games', 'ScStore', 'Searches', 'SendTo', 'Start Menu', 'Templates', 'Untitled.ipynb', 'Untitled1.ipynb', 'Untitled2.ipynb', 'Untitled3.ipynb', 'Untitled4.ipynb', 'Untitled5.ipynb', 'useruid.ini', 'Videos', 'VirtualBox VMs', 'vmlogs']\n"
     ]
    }
   ],
   "source": [
    "import os\n",
    "print(os.listdir()) # this list the functions of module os"
   ]
  },
  {
   "cell_type": "code",
   "execution_count": 10,
   "metadata": {},
   "outputs": [],
   "source": [
    "# python automaticall identifies data type"
   ]
  },
  {
   "cell_type": "code",
   "execution_count": 11,
   "metadata": {},
   "outputs": [
    {
     "name": "stdout",
     "output_type": "stream",
     "text": [
      "<class 'int'>\n",
      "<class 'float'>\n",
      "<class 'str'>\n"
     ]
    }
   ],
   "source": [
    "a = 6\n",
    "b = 6.1\n",
    "c = '''vardaan'''\n",
    "print(type(a))\n",
    "print(type(b))\n",
    "print(type(c))"
   ]
  },
  {
   "cell_type": "code",
   "execution_count": 12,
   "metadata": {},
   "outputs": [
    {
     "name": "stdout",
     "output_type": "stream",
     "text": [
      "the result of 2 +1 is 3\n"
     ]
    }
   ],
   "source": [
    "print('the result of 2 +1 is',(2+1))"
   ]
  },
  {
   "cell_type": "code",
   "execution_count": 13,
   "metadata": {},
   "outputs": [
    {
     "name": "stdout",
     "output_type": "stream",
     "text": [
      "10\n",
      "7.0\n"
     ]
    }
   ],
   "source": [
    "# Type casting in python\n",
    "\n",
    "a = '7'\n",
    "a = int(a)\n",
    "print(3 + a)\n",
    "a = float(a)\n",
    "print(a)"
   ]
  },
  {
   "cell_type": "markdown",
   "metadata": {},
   "source": [
    "### input function\n",
    "a = input('Enter your name : ')\n",
    "print(a)\n",
    "print(type(a))"
   ]
  },
  {
   "cell_type": "code",
   "execution_count": 14,
   "metadata": {},
   "outputs": [],
   "source": [
    "# python program to add 2 numbers and then find average of them"
   ]
  },
  {
   "cell_type": "markdown",
   "metadata": {},
   "source": [
    "# a = int(input('Number 1 : '))\n",
    "b = int(input('Number 1 : '))\n",
    "print(a+b)\n",
    "c = (a + b)/2\n",
    "print(c)\n",
    "    "
   ]
  },
  {
   "cell_type": "code",
   "execution_count": 15,
   "metadata": {},
   "outputs": [
    {
     "data": {
      "text/plain": [
       "True"
      ]
     },
     "execution_count": 15,
     "metadata": {},
     "output_type": "execute_result"
    }
   ],
   "source": [
    "# to check wether a is greater than b or not\n",
    "a = 37\n",
    "b = 4\n",
    "bool(a>b)"
   ]
  },
  {
   "cell_type": "code",
   "execution_count": 16,
   "metadata": {},
   "outputs": [
    {
     "name": "stdout",
     "output_type": "stream",
     "text": [
      "abcdefghijklmnopqrstuvw\n",
      "abcdefghijklmnopqrstuvw\n",
      "acegikmoqsuw\n",
      "adgjmpsv\n",
      "abcdefghijklmnopqrstuvw\n"
     ]
    }
   ],
   "source": [
    "# Strings and its functions\n",
    "# strings are immutable i.e alp[0] = '1' is not possible\n",
    "\n",
    "alp = '''abcdefghijklmnopqrstuvw'''\n",
    "print(alp)\n",
    "print(alp[0:])\n",
    "print(alp[0::2]) # prints every 2nd value\n",
    "print(alp[0::3]) # prints every 3rd value\n",
    "print(alp[0::1]) # no skipping\n",
    "\n"
   ]
  },
  {
   "cell_type": "code",
   "execution_count": 17,
   "metadata": {},
   "outputs": [
    {
     "name": "stdout",
     "output_type": "stream",
     "text": [
      "19\n",
      "3\n",
      "Hello vardaan hello\n",
      "hello vardaan hello\n",
      "7\n",
      "False\n",
      "HELLO vardaan HELLO\n"
     ]
    }
   ],
   "source": [
    "# String functions\n",
    "para = 'hello vardaan hello'\n",
    "print(len(para))\n",
    "print(para.count('a'))\n",
    "print(para.capitalize())\n",
    "print(para) # will not change 1st character to uppercase bca immutable\n",
    "print(para.find('a'))\n",
    "print(para.endswith('aan'))\n",
    "print(para.replace('hello','HELLO'))"
   ]
  },
  {
   "cell_type": "code",
   "execution_count": 18,
   "metadata": {},
   "outputs": [
    {
     "name": "stdout",
     "output_type": "stream",
     "text": [
      "Enter your namevardaan\n",
      "vardaanGood afternoon\n",
      "14\n",
      "hello sir what fuckoff are you doing\n"
     ]
    }
   ],
   "source": [
    "a = input('Enter your name')\n",
    "print(a + 'Good afternoon')\n",
    "# program to find double spce in string\n",
    "story = 'hello sir what  are you doing'\n",
    "print(story.find('  '))\n",
    "# replce double space with fuckoff\n",
    "print(story.replace('  ',' fuckoff '))"
   ]
  },
  {
   "cell_type": "code",
   "execution_count": 19,
   "metadata": {},
   "outputs": [],
   "source": [
    "# Python list and tuples\n",
    "# list are mutable\n",
    "# we can create a list with items of different data types"
   ]
  },
  {
   "cell_type": "code",
   "execution_count": 20,
   "metadata": {},
   "outputs": [
    {
     "name": "stdout",
     "output_type": "stream",
     "text": [
      "[1, 2, 3, 4, 5, 6]\n",
      "[100, 2, 3, 4, 5, 6]\n",
      "['hello', 2, 2.0]\n"
     ]
    }
   ],
   "source": [
    "list = [1,2,3,4,5,6] \n",
    "print(list)\n",
    "list[0] = 100\n",
    "print(list)\n",
    "list1 = ['hello', 2, 2.0]\n",
    "print(list1)"
   ]
  },
  {
   "cell_type": "code",
   "execution_count": 21,
   "metadata": {},
   "outputs": [
    {
     "name": "stdout",
     "output_type": "stream",
     "text": [
      "[1, 2, 4, 5, 5, 6, 8, 8]\n",
      "[8, 8, 6, 5, 5, 4, 2, 1]\n",
      "[8, 8, 6, 5, 5, 4, 2, 1, 100]\n",
      "[101, 8, 8, 6, 5, 5, 4, 2, 1, 100]\n",
      "[101, 8, 6, 5, 5, 4, 2, 1]\n"
     ]
    }
   ],
   "source": [
    "# list methods\n",
    "l1 = [8,4,5,6,2,1,5,8,]\n",
    "l1.sort()\n",
    "print(l1)\n",
    "l1.reverse()\n",
    "print(l1)\n",
    "l1.append(100)\n",
    "print(l1)\n",
    "l1.insert(0,101)\n",
    "print(l1)\n",
    "l1.pop(2) # remove at index 2 and return\n",
    "l1.remove(100) # remove 100 from the list\n",
    "print(l1)"
   ]
  },
  {
   "cell_type": "code",
   "execution_count": 22,
   "metadata": {},
   "outputs": [
    {
     "name": "stdout",
     "output_type": "stream",
     "text": [
      "(1, 2, 3, 4, 5, 1, 1, 1)\n",
      "4\n",
      "3\n",
      "1\n"
     ]
    }
   ],
   "source": [
    "# TUPLES \n",
    "# tuples are immutable\n",
    "t = (1,2,3,4,5,1,1,1)\n",
    "print(t)\n",
    "t1 = (1,) # tuple with 1 element\n",
    "print(t.count(1))  # gives count of 1 in tuple\n",
    "print(t.index(4)) # print index of 4\n",
    "print(t[0])"
   ]
  },
  {
   "cell_type": "code",
   "execution_count": 23,
   "metadata": {},
   "outputs": [
    {
     "name": "stdout",
     "output_type": "stream",
     "text": [
      "74\n",
      "21\n",
      "24\n",
      "DPS \n"
     ]
    }
   ],
   "source": [
    "# dictonary \n",
    "# mutable, unordered, no duplicates\n",
    "mydict = {\n",
    "    '10th' : '74',\n",
    "    '12th'  : '90.8',\n",
    "     'grad'  : '70',\n",
    "    'age' : 21,\n",
    "    100 : 24,\n",
    "    'acad' : {'school': 'DPS '}\n",
    "    \n",
    "}\n",
    "print(mydict['10th'])\n",
    "print(mydict['age'])\n",
    "print(mydict[100])\n",
    "print(mydict['acad']['school'])"
   ]
  },
  {
   "cell_type": "code",
   "execution_count": 24,
   "metadata": {},
   "outputs": [
    {
     "name": "stdout",
     "output_type": "stream",
     "text": [
      "2\n",
      "21\n",
      "21\n"
     ]
    }
   ],
   "source": [
    "n = int(input())\n",
    "i = 1\n",
    "while i <= n:\n",
    "    j = 1\n",
    "    while j <= n:\n",
    "        print(n-j+1, end = '')\n",
    "        j = j +1\n",
    "        \n",
    "    i = i + 1\n",
    "    print()"
   ]
  },
  {
   "cell_type": "code",
   "execution_count": 25,
   "metadata": {},
   "outputs": [
    {
     "data": {
      "text/plain": [
       "2"
      ]
     },
     "execution_count": 25,
     "metadata": {},
     "output_type": "execute_result"
    }
   ],
   "source": [
    "a = {1:2}  # define an dict\n",
    "a[1] "
   ]
  },
  {
   "cell_type": "code",
   "execution_count": 26,
   "metadata": {},
   "outputs": [],
   "source": [
    "## Patterns"
   ]
  },
  {
   "cell_type": "code",
   "execution_count": 27,
   "metadata": {},
   "outputs": [
    {
     "name": "stdout",
     "output_type": "stream",
     "text": [
      "1\n",
      "1\n"
     ]
    }
   ],
   "source": [
    "n = int(input())\n",
    "i = 1\n",
    "while i <= n:\n",
    "    j = 1\n",
    "    while j <= n:\n",
    "        print(i, end = '')\n",
    "        j = j +1\n",
    "        \n",
    "    i = i + 1\n",
    "    print()"
   ]
  },
  {
   "cell_type": "code",
   "execution_count": 28,
   "metadata": {},
   "outputs": [],
   "source": [
    "# for loops\n",
    "# syntax = for i in x , where x is a collection, range(start,stop,stride)\n"
   ]
  },
  {
   "cell_type": "code",
   "execution_count": 29,
   "metadata": {},
   "outputs": [
    {
     "name": "stdout",
     "output_type": "stream",
     "text": [
      "a\n",
      "b\n",
      "c\n",
      "d\n",
      "e\n",
      "f\n",
      "g\n"
     ]
    }
   ],
   "source": [
    "a = \"abcdefg\"\n",
    "for c in a:\n",
    "     print(c)\n",
    "    "
   ]
  },
  {
   "cell_type": "code",
   "execution_count": 30,
   "metadata": {},
   "outputs": [
    {
     "name": "stdout",
     "output_type": "stream",
     "text": [
      "2\n",
      "1\n",
      "2\n"
     ]
    }
   ],
   "source": [
    "# print number 1 to n\n",
    "n = int(input())\n",
    "for i in range(1,n + 1,1):\n",
    "    print(i)\n",
    "    "
   ]
  },
  {
   "cell_type": "code",
   "execution_count": 31,
   "metadata": {},
   "outputs": [
    {
     "name": "stdout",
     "output_type": "stream",
     "text": [
      "1\n",
      "1\n"
     ]
    }
   ],
   "source": [
    "#print numbers n to 1\n",
    "n = int(input())\n",
    "for i in range(n, 0, -1):\n",
    "    print(i)"
   ]
  },
  {
   "cell_type": "markdown",
   "metadata": {},
   "source": []
  },
  {
   "cell_type": "code",
   "execution_count": 32,
   "metadata": {},
   "outputs": [
    {
     "name": "stdout",
     "output_type": "stream",
     "text": [
      "3\n",
      "1\n"
     ]
    }
   ],
   "source": [
    "a =  int(input())\n",
    "b =  int(input())\n",
    "\n",
    "for i in range(a, b+1, 1 ):\n",
    "    if i%3 ==0:\n",
    "        print(i)\n",
    "    "
   ]
  },
  {
   "cell_type": "markdown",
   "metadata": {},
   "source": [
    "# array n lists\n",
    "# list can store multiple elements at same time\n",
    "# list can store multipe elements of different type (hetrogenious type) "
   ]
  },
  {
   "cell_type": "code",
   "execution_count": 33,
   "metadata": {},
   "outputs": [
    {
     "data": {
      "text/plain": [
       "[1, 2, 3]"
      ]
     },
     "execution_count": 33,
     "metadata": {},
     "output_type": "execute_result"
    }
   ],
   "source": [
    "li = []\n",
    "li = [1,2,3]\n",
    "type(li)\n",
    "li"
   ]
  },
  {
   "cell_type": "markdown",
   "metadata": {},
   "source": [
    "# How we can access n chege elements of a li\n",
    "# we can chenge only those elemnet whose index is present"
   ]
  },
  {
   "cell_type": "code",
   "execution_count": 34,
   "metadata": {},
   "outputs": [
    {
     "data": {
      "text/plain": [
       "['vardaan', 2, 3]"
      ]
     },
     "execution_count": 34,
     "metadata": {},
     "output_type": "execute_result"
    }
   ],
   "source": [
    "li[0] = \"vardaan\"\n",
    "li"
   ]
  },
  {
   "cell_type": "markdown",
   "metadata": {},
   "source": [
    "# slicing of list\n",
    "# inserting and appending"
   ]
  },
  {
   "cell_type": "code",
   "execution_count": 35,
   "metadata": {},
   "outputs": [
    {
     "data": {
      "text/plain": [
       "['vardaan', 2, 3, 'yadav']"
      ]
     },
     "execution_count": 35,
     "metadata": {},
     "output_type": "execute_result"
    }
   ],
   "source": [
    "li[0:]\n",
    "li.append(\"yadav\")\n",
    "li"
   ]
  },
  {
   "cell_type": "code",
   "execution_count": 36,
   "metadata": {},
   "outputs": [
    {
     "data": {
      "text/plain": [
       "['vardaan', 2, 3, 'yadav', 999]"
      ]
     },
     "execution_count": 36,
     "metadata": {},
     "output_type": "execute_result"
    }
   ],
   "source": [
    "li.insert(9,999) # insert element 999 at index 9 \n",
    "li"
   ]
  },
  {
   "cell_type": "code",
   "execution_count": 37,
   "metadata": {},
   "outputs": [
    {
     "data": {
      "text/plain": [
       "['vardaan', 2, 3, 'yadav', 999, (9, 10, 11)]"
      ]
     },
     "execution_count": 37,
     "metadata": {},
     "output_type": "execute_result"
    }
   ],
   "source": [
    "li.append((9,10 ,11))\n",
    "li"
   ]
  },
  {
   "cell_type": "code",
   "execution_count": 38,
   "metadata": {},
   "outputs": [
    {
     "data": {
      "text/plain": [
       "['vardaan', 2, 3, 'yadav', 999, (9, 10, 11), 12, 13, 14]"
      ]
     },
     "execution_count": 38,
     "metadata": {},
     "output_type": "execute_result"
    }
   ],
   "source": [
    "li.extend((12,13,14))\n",
    "li"
   ]
  },
  {
   "cell_type": "markdown",
   "metadata": {},
   "source": [
    "# removing elements from the list\n",
    "# pop also returns the removed element"
   ]
  },
  {
   "cell_type": "code",
   "execution_count": 39,
   "metadata": {},
   "outputs": [
    {
     "data": {
      "text/plain": [
       "[2, 3, 'yadav', 999, (9, 10, 11), 12, 13, 14]"
      ]
     },
     "execution_count": 39,
     "metadata": {},
     "output_type": "execute_result"
    }
   ],
   "source": [
    "li.remove(\"vardaan\")\n",
    "li"
   ]
  },
  {
   "cell_type": "code",
   "execution_count": 40,
   "metadata": {},
   "outputs": [
    {
     "data": {
      "text/plain": [
       "[2, 3, 'yadav', 999, (9, 10, 11), 12, 13]"
      ]
     },
     "execution_count": 40,
     "metadata": {},
     "output_type": "execute_result"
    }
   ],
   "source": [
    "li.pop()\n",
    "li"
   ]
  },
  {
   "cell_type": "code",
   "execution_count": 41,
   "metadata": {},
   "outputs": [
    {
     "ename": "IndexError",
     "evalue": "pop index out of range",
     "output_type": "error",
     "traceback": [
      "\u001b[1;31m---------------------------------------------------------------------------\u001b[0m",
      "\u001b[1;31mIndexError\u001b[0m                                Traceback (most recent call last)",
      "\u001b[1;32m<ipython-input-41-5242cce9bc50>\u001b[0m in \u001b[0;36m<module>\u001b[1;34m\u001b[0m\n\u001b[1;32m----> 1\u001b[1;33m \u001b[0mli\u001b[0m\u001b[1;33m.\u001b[0m\u001b[0mpop\u001b[0m\u001b[1;33m(\u001b[0m\u001b[1;36m8\u001b[0m\u001b[1;33m)\u001b[0m\u001b[1;33m\u001b[0m\u001b[1;33m\u001b[0m\u001b[0m\n\u001b[0m\u001b[0;32m      2\u001b[0m \u001b[0mli\u001b[0m\u001b[1;33m\u001b[0m\u001b[1;33m\u001b[0m\u001b[0m\n",
      "\u001b[1;31mIndexError\u001b[0m: pop index out of range"
     ]
    }
   ],
   "source": [
    "li.pop(8)\n",
    "li"
   ]
  },
  {
   "cell_type": "markdown",
   "metadata": {},
   "source": [
    "# list actually stores the references continiously i.e address that is the reason why we can store multiple type elements"
   ]
  },
  {
   "cell_type": "code",
   "execution_count": null,
   "metadata": {},
   "outputs": [],
   "source": [
    "arr = [1,2,'vardaan',9,10,11]\n",
    "arr"
   ]
  },
  {
   "cell_type": "code",
   "execution_count": null,
   "metadata": {},
   "outputs": [],
   "source": [
    "for i in range(len(arr)):\n",
    "    print(arr[i])\n",
    "    "
   ]
  },
  {
   "cell_type": "code",
   "execution_count": null,
   "metadata": {},
   "outputs": [],
   "source": [
    "for i in range(3,len(arr)):\n",
    "    print(arr[i])"
   ]
  },
  {
   "cell_type": "code",
   "execution_count": null,
   "metadata": {},
   "outputs": [],
   "source": [
    "for ele in arr:\n",
    "    print(ele)"
   ]
  },
  {
   "cell_type": "code",
   "execution_count": null,
   "metadata": {},
   "outputs": [],
   "source": [
    "for ele in arr[2:]:\n",
    "    print(ele)"
   ]
  },
  {
   "cell_type": "markdown",
   "metadata": {},
   "source": [
    "# line seperated input"
   ]
  },
  {
   "cell_type": "code",
   "execution_count": null,
   "metadata": {},
   "outputs": [],
   "source": [
    "n = int(input()) \n",
    "arr2 = []\n",
    "for i in range(n):\n",
    "    curr = int(input())\n",
    "    arr2.append(curr)\n",
    "arr2    "
   ]
  },
  {
   "cell_type": "code",
   "execution_count": null,
   "metadata": {},
   "outputs": [],
   "source": [
    "arr2"
   ]
  },
  {
   "cell_type": "markdown",
   "metadata": {},
   "source": [
    "# spaceSeperated input"
   ]
  },
  {
   "cell_type": "code",
   "execution_count": null,
   "metadata": {},
   "outputs": [],
   "source": [
    "str = input()\n",
    "str_split = str.split()\n",
    "li = []\n",
    "for ele in str_split:\n",
    "    li.append(int(ele))\n",
    "li    \n",
    "    "
   ]
  },
  {
   "cell_type": "markdown",
   "metadata": {},
   "source": [
    "# variables are immutable in python and lists r mutable"
   ]
  },
  {
   "cell_type": "code",
   "execution_count": null,
   "metadata": {},
   "outputs": [],
   "source": [
    "def incr(li):\n",
    "    li[0] = li[0] + 2\n",
    "    return li\n",
    "\n",
    "li = [1,2,3,4]\n",
    "li = incr(li)\n",
    "print(li)"
   ]
  },
  {
   "cell_type": "code",
   "execution_count": null,
   "metadata": {},
   "outputs": [],
   "source": [
    "def incr(li):\n",
    "    li = [3,3,4]\n",
    "    return li\n",
    "\n",
    "li = [1,2,3,4]\n",
    "li = incr(li)\n",
    "print(li)"
   ]
  },
  {
   "cell_type": "code",
   "execution_count": null,
   "metadata": {},
   "outputs": [],
   "source": [
    "def incr(a):\n",
    "    a = a + 2\n",
    "    return\n",
    "\n",
    "a = 3\n",
    "incr(a)\n",
    "print(a)"
   ]
  },
  {
   "cell_type": "code",
   "execution_count": null,
   "metadata": {},
   "outputs": [],
   "source": [
    "def incr(a):\n",
    "    a = a + 2\n",
    "    return a\n",
    "\n",
    "a = 3\n",
    "a = incr(a)\n",
    "print(a)"
   ]
  },
  {
   "cell_type": "code",
   "execution_count": null,
   "metadata": {},
   "outputs": [],
   "source": [
    "x = 4\n",
    "x = 3\n",
    "print(x)"
   ]
  },
  {
   "cell_type": "code",
   "execution_count": null,
   "metadata": {},
   "outputs": [],
   "source": [
    "li = [1,2,3,4]\n",
    "li = [3,3,4]"
   ]
  },
  {
   "cell_type": "code",
   "execution_count": null,
   "metadata": {},
   "outputs": [],
   "source": [
    "li = [1,2,3,4]\n",
    "li = [3,3,4]\n",
    "print(li)"
   ]
  },
  {
   "cell_type": "markdown",
   "metadata": {},
   "source": [
    "# Reversing a list"
   ]
  },
  {
   "cell_type": "code",
   "execution_count": null,
   "metadata": {},
   "outputs": [],
   "source": [
    "def reverse(li):\n",
    "    length = len(li)\n",
    "    for i in range(length//2):\n",
    "        li[i], li[length-i-1] = li[length-i-1], li[i]\n",
    "\n",
    "\n",
    "\n",
    "\n",
    "li = [1,2,3,4,5,6]\n",
    "reverse(li)\n",
    "print(li)"
   ]
  },
  {
   "cell_type": "markdown",
   "metadata": {},
   "source": [
    "\n",
    "# Binary search"
   ]
  },
  {
   "cell_type": "code",
   "execution_count": null,
   "metadata": {},
   "outputs": [],
   "source": [
    "def binarysearch(li,f):\n",
    "    start = 0\n",
    "    end = len(li)-1\n",
    "    while(start<=end):\n",
    "        mid = (start + end)//2\n",
    "        if(li[mid] == f):\n",
    "            return mid\n",
    "        elif(li[mid]< f):\n",
    "            start = mid +1\n",
    "        else:\n",
    "            end = mid -1\n",
    "    return -1        \n",
    "\n",
    "  \n",
    "\n",
    "li = [1,13,2,14,4,7,6,]\n",
    "li.sort()\n",
    "print(li)\n",
    "f = int(input())\n",
    "\n",
    "index = binarysearch(li,f)\n",
    "print(index)\n",
    "    \n",
    "    \n",
    "\n"
   ]
  },
  {
   "cell_type": "markdown",
   "metadata": {},
   "source": [
    "# selection sort\n",
    "# find minimum and swap the minimum with 0th index element similarly continue the process hence array is sorted.\n",
    "# in bubble sort compare arr[j] < arr[j+1]"
   ]
  },
  {
   "cell_type": "code",
   "execution_count": null,
   "metadata": {},
   "outputs": [],
   "source": [
    "def bubbleSort(arr):\n",
    "    n = len(arr)\n",
    "  \n",
    "    # Traverse through all array elements\n",
    "    for i in range(n-1):\n",
    "    # range(n) also work but outer loop will repeat one time more than needed.\n",
    "  \n",
    "        # Last i elements are already in place\n",
    "        for j in range(0, n-i-1):\n",
    "  \n",
    "            # traverse the array from 0 to n-i-1\n",
    "            # Swap if the element found is greater\n",
    "            # than the next element\n",
    "            if arr[j] > arr[j+1] :\n",
    "                arr[j], arr[j+1] = arr[j+1], arr[j]\n",
    "  \n",
    "# Driver code to test above\n",
    "arr = [64, 34, 25, 12, 22, 11, 90]\n",
    "  \n",
    "bubbleSort(arr)\n",
    "print(arr)"
   ]
  },
  {
   "cell_type": "code",
   "execution_count": null,
   "metadata": {},
   "outputs": [],
   "source": [
    "a =(5 % 1)\n",
    "print(a)"
   ]
  },
  {
   "cell_type": "code",
   "execution_count": null,
   "metadata": {},
   "outputs": [],
   "source": [
    "def sol(arr2):\n",
    "    t = int(input())\n",
    "    for i in range(len(arr2)):\n",
    "        for j in range(i+1,len(arr2)):\n",
    "            if(arr2[i] + arr2[j] == t):\n",
    "                return i, j\n",
    "        \n",
    "        \n",
    "\n",
    "\n",
    "n = int(input()) \n",
    "arr2 = []\n",
    "for i in range(n):\n",
    "    curr = int(input())\n",
    "    arr2.append(curr)\n",
    "\n",
    "a,b =  sol(arr2)\n",
    "print(a)\n",
    "print(b)"
   ]
  },
  {
   "cell_type": "markdown",
   "metadata": {},
   "source": [
    "# Write a python function to return minimum and maximum in an array. Your program should make the minimum number of comparisons. "
   ]
  },
  {
   "cell_type": "code",
   "execution_count": null,
   "metadata": {},
   "outputs": [],
   "source": [
    "li = [1,2,3,4,5]\n",
    "m = max(li)\n",
    "print(m)\n",
    "n = min(li)\n",
    "print(n)"
   ]
  },
  {
   "cell_type": "code",
   "execution_count": null,
   "metadata": {},
   "outputs": [],
   "source": [
    "li = [1.99,58,1001,508]\n",
    "sort(li)\n",
    "print(li)"
   ]
  },
  {
   "cell_type": "code",
   "execution_count": null,
   "metadata": {},
   "outputs": [],
   "source": [
    "n = int(input())\n",
    "arr = []\n",
    "for i in range(n):\n",
    "    curr = int(input())\n",
    "    arr.append(curr)\n",
    "    \n",
    "k = int(input())\n",
    "arr.sort()\n",
    "print(arr[k-1])"
   ]
  },
  {
   "cell_type": "markdown",
   "metadata": {},
   "source": [
    "# Move all negative numbers to beginning and positive to end with constant extra space"
   ]
  },
  {
   "cell_type": "code",
   "execution_count": 42,
   "metadata": {},
   "outputs": [
    {
     "name": "stdout",
     "output_type": "stream",
     "text": [
      "[-1, -3, -7, 4, 5, 6, 2, 8, 9]\n"
     ]
    }
   ],
   "source": [
    "def rearrange(arr, n ) :\n",
    " \n",
    "    # Please refer partition() in\n",
    "    # below post\n",
    "    # https://www.geeksforgeeks.org / quick-sort / j = 0\n",
    "    j = 0\n",
    "    for i in range(0, n) :\n",
    "        if (arr[i] < 0) :\n",
    "            temp = arr[i]\n",
    "            arr[i] = arr[j]\n",
    "            arr[j]= temp\n",
    "            j = j + 1\n",
    "    print(arr)\n",
    " \n",
    "# Driver code\n",
    "arr = [-1, 2, -3, 4, 5, 6, -7, 8, 9]\n",
    "n = len(arr)\n",
    "rearrange(arr, n)"
   ]
  },
  {
   "cell_type": "code",
   "execution_count": null,
   "metadata": {},
   "outputs": [],
   "source": [
    "# Python3 program of the\n",
    "# above approach\n",
    " \n",
    "# Function to shift all the\n",
    "# the negative elements to\n",
    "# the left of the array\n",
    "def shiftall(arr,left,right):\n",
    "   \n",
    "  # Loop to iterate while the\n",
    "  # left pointer is less than\n",
    "  # the right pointer\n",
    "  while left<=right:\n",
    "     \n",
    "    # Condition to check if the left\n",
    "    # and right pointer negative\n",
    "    if arr[left] < 0 and arr[right] < 0:\n",
    "      left+=1\n",
    "       \n",
    "    # Condition to check if the left\n",
    "    # pointer element is positive and\n",
    "    # the right pointer element is\n",
    "    # negative\n",
    "    elif arr[left]>0 and arr[right]<0:\n",
    "      arr[left], arr[right] = \\\n",
    "              arr[right],arr[left]\n",
    "      left+=1\n",
    "      right-=1\n",
    "       \n",
    "    # Condition to check if the left\n",
    "    # pointer is positive and right\n",
    "    # pointer as well\n",
    "    elif arr[left]>0 and arr[right]>0:\n",
    "      right-=1\n",
    "    else:\n",
    "      left+=1\n",
    "      right-=1\n",
    "       \n",
    "# Function to print the array\n",
    "def display(arr):\n",
    "  for i in range(len(arr)):\n",
    "    print(arr[i], end=\" \")\n",
    "  print()\n",
    " \n",
    "# Driver Code\n",
    "if __name__ == \"__main__\":\n",
    "  arr=[-12, 11, -13, -5, \\\n",
    "       6, -7, 5, -3, 11]\n",
    "  n=len(arr)\n",
    "  shiftall(arr,0,n-1)\n",
    "  display(arr)"
   ]
  },
  {
   "cell_type": "code",
   "execution_count": 51,
   "metadata": {},
   "outputs": [
    {
     "name": "stdout",
     "output_type": "stream",
     "text": [
      "{1, 2, 3, 4, 6}\n",
      "[1, 2, 3, 4, 6, 7]\n"
     ]
    }
   ],
   "source": [
    "# removing duplicates from list \n",
    "# method 1\n",
    "a = [1,2,4]\n",
    "b = [3,4,6]\n",
    "a.extend(b)\n",
    "a = set(a)\n",
    "print(a)\n",
    "\n",
    "# method 2\n",
    "\n",
    "a = [1,2,3,4,4,6,7,7]\n",
    "b = []\n",
    "for i in a:\n",
    "    if i not in b:\n",
    "        b.append(i)\n",
    "print(b)        \n",
    "        "
   ]
  },
  {
   "cell_type": "code",
   "execution_count": 56,
   "metadata": {},
   "outputs": [
    {
     "name": "stdout",
     "output_type": "stream",
     "text": [
      "1\n",
      "4\n",
      "7\n",
      "[1, 2, 3]\n",
      "3\n"
     ]
    }
   ],
   "source": [
    "def sub(li,k):\n",
    "    b = []\n",
    "    for i in range(k):\n",
    "        b.append(li[i])\n",
    "    \n",
    "        \n",
    "li = [1,2,3,4,5,6,7,8,9]\n",
    "k = int(input())\n",
    "sub(li,k)\n",
    "    \n",
    "    "
   ]
  },
  {
   "cell_type": "markdown",
   "metadata": {},
   "source": [
    "# reverse array in groups"
   ]
  },
  {
   "cell_type": "code",
   "execution_count": 109,
   "metadata": {},
   "outputs": [
    {
     "name": "stdout",
     "output_type": "stream",
     "text": [
      "3\n",
      "[3, 2, 1, 5, 4]\n"
     ]
    }
   ],
   "source": [
    "arr= [1,2,3,4,5]\n",
    "l = len(arr)\n",
    "k = int(input())\n",
    "start = 0\n",
    "result = []\n",
    "while(start < l):\n",
    "    if l < k:\n",
    "        arr.reverse()\n",
    "        result = result + arr\n",
    "        print(result)\n",
    "        break\n",
    "    obj=[]    \n",
    "    obj =  arr[start:start+k]\n",
    "    obj.reverse()\n",
    "    result.extend(obj)\n",
    "    start = start + k\n",
    "print(result)    "
   ]
  },
  {
   "cell_type": "code",
   "execution_count": 102,
   "metadata": {},
   "outputs": [
    {
     "name": "stdout",
     "output_type": "stream",
     "text": [
      "[5]\n"
     ]
    }
   ],
   "source": [
    "li = [1,2,3,4,5]\n",
    "li = li[4:7]\n",
    "li.reverse()\n",
    "print(li)\n"
   ]
  },
  {
   "cell_type": "code",
   "execution_count": 4,
   "metadata": {},
   "outputs": [
    {
     "name": "stdout",
     "output_type": "stream",
     "text": [
      "[5, 1, 2, 3, 4]\n"
     ]
    }
   ],
   "source": [
    "# 1 clock wise rotation\n",
    "li = [1,2,3,4,5]\n",
    "b = []\n",
    "l = len(li)\n",
    "while (l>0):\n",
    "    b.append(li[l-1])\n",
    "    l = l-1\n",
    "c =[]\n",
    "c = b[1:]\n",
    "c.reverse()\n",
    "b = b[0:1] + c\n",
    "print(b)\n"
   ]
  },
  {
   "cell_type": "code",
   "execution_count": 7,
   "metadata": {},
   "outputs": [
    {
     "name": "stdout",
     "output_type": "stream",
     "text": [
      "[32, 3, 6, 7, 8, 12, 33, 56, 77, 88, 9, 0, 1, 23]\n"
     ]
    }
   ],
   "source": [
    "# method 2 \n",
    "arr = [3,6,7,8,12,33,56,77,88,9,0,1,23,32]\n",
    "l = len(arr)\n",
    "arr = arr[l-1:] + arr[0:l-1]\n",
    "print(arr)\n"
   ]
  },
  {
   "cell_type": "code",
   "execution_count": 21,
   "metadata": {},
   "outputs": [
    {
     "name": "stdout",
     "output_type": "stream",
     "text": [
      "[-1, 0, 1, 2]\n",
      "[0, 1, 2]\n",
      "2\n"
     ]
    }
   ],
   "source": [
    "li = [1,2,3,4]\n",
    "for ele in li:\n",
    "    li[ele] = li[ele]-2\n",
    "print(li)\n",
    "for i in li:\n",
    "    if (li[i]<0):\n",
    "        li.pop(i)\n",
    "print(li)        \n",
    "li.sort()\n",
    "e = li[len(li)-1]\n",
    "s = li[0]\n",
    "r = e-s\n",
    "print(r)\n",
    "          \n",
    "    \n"
   ]
  },
  {
   "cell_type": "code",
   "execution_count": 78,
   "metadata": {},
   "outputs": [
    {
     "name": "stdout",
     "output_type": "stream",
     "text": [
      "[1, 2, 3]\n",
      "2\n"
     ]
    }
   ],
   "source": [
    "arr = [1,2,3,4,5]\n",
    "l = len(arr)\n",
    "for i in range(0,l):\n",
    "    arr[i]= arr[i]-2\n",
    "res = [ele for ele in arr if ele > 0]\n",
    "print(res)\n",
    "e = res[len(res)-1]\n",
    "s = res[0]\n",
    "print(e-s)\n",
    "    \n"
   ]
  },
  {
   "cell_type": "code",
   "execution_count": 79,
   "metadata": {},
   "outputs": [
    {
     "name": "stdout",
     "output_type": "stream",
     "text": [
      "[1, 2, 3]\n"
     ]
    }
   ],
   "source": [
    "arr = [1,2,3,4,5]\n",
    "l = len(arr)\n",
    "for i in range(0,l):\n",
    "    arr[i]= arr[i]-2\n",
    "res = []    \n",
    "for ele in arr:\n",
    "    if ele >0:\n",
    "        res.append(ele)\n",
    "print(res)        "
   ]
  },
  {
   "cell_type": "code",
   "execution_count": 119,
   "metadata": {},
   "outputs": [
    {
     "name": "stdout",
     "output_type": "stream",
     "text": [
      "2\n"
     ]
    }
   ],
   "source": [
    "# min jump \n",
    "arr = [1, 3, 5, 8, 9, 2, 6, 7, 6, 8, 9]\n",
    "l = len(arr)\n",
    "count = 1\n",
    "jump = arr[0]\n",
    "for i in range(jump):\n",
    "    if arr[i] > len(arr[jump+1::]):\n",
    "        count = count +1\n",
    "        print(count)\n",
    "        break\n",
    "    elif arr[i] < len(arr[jump+1::]):\n",
    "        jump = arr[jump]\n",
    "        count = count + 1\n",
    "    \n",
    "print(count)    \n"
   ]
  },
  {
   "cell_type": "code",
   "execution_count": null,
   "metadata": {},
   "outputs": [
    {
     "name": "stdout",
     "output_type": "stream",
     "text": [
      "5\n"
     ]
    }
   ],
   "source": [
    "\n",
    "A = [1,2,3,4,5]\n",
    "A.sort()\n",
    "l = len(A)\n",
    "print(l)\n",
    "\n",
    "while(l/2):\n",
    "    i = 0\n",
    "    j = 1\n",
    "    temp = A[i]\n",
    "    A[i] = A[j]\n",
    "    A[j] = temp\n",
    "    i = i+2\n",
    "    j = j+2\n",
    "    \n",
    "print(A)  \n",
    "\n"
   ]
  },
  {
   "cell_type": "code",
   "execution_count": 1,
   "metadata": {},
   "outputs": [
    {
     "name": "stdout",
     "output_type": "stream",
     "text": [
      "472\n"
     ]
    }
   ],
   "source": [
    "# count inversion\n",
    "arr = [468, 335, 1, 170, 225, 479, 359, 463, 465, 206, 146, 282, 328, 462, 492, 496, 443, 328, 437, 392, 105, 403, 154, 293, 383, 422, 217, 219, 396, 448, 227, 272, 39 ,370 ,413, 168 ,300, 36 ,395, 204, 312 ,323]\n",
    "\n",
    "\n",
    "count = 0\n",
    "n = len(arr)\n",
    "\n",
    "for i in range(0,n-1):\n",
    "    for j in range(i,n-1):\n",
    "        if arr[i] > arr[j]:\n",
    "            count = count +1\n",
    "        \n",
    "print(count)            \n"
   ]
  },
  {
   "cell_type": "code",
   "execution_count": 5,
   "metadata": {},
   "outputs": [
    {
     "name": "stdout",
     "output_type": "stream",
     "text": [
      "[1, 2, 3, 4, 5]\n"
     ]
    }
   ],
   "source": [
    "a = [1,2,3,'4','5']\n",
    "a = [int(items) for items in a]\n",
    "print(a)"
   ]
  },
  {
   "cell_type": "code",
   "execution_count": null,
   "metadata": {},
   "outputs": [],
   "source": [
    "\n",
    "n = int(input())\n",
    "a = int(input())\n",
    "x = int(input())\n",
    "p = -1\n",
    "zero_pos = 0\n",
    "next_zero = 0\n",
    "if(x>((n-a)*a)):\n",
    "    print(p)\n",
    "else:\n",
    "    arr = []\n",
    "    for i in range(n):\n",
    "        arr.append(1)\n",
    "        \n",
    "    for i in range(0,a):\n",
    "        arr.append(0)\n",
    "    len(arr)    \n",
    "    print(arr)    "
   ]
  },
  {
   "cell_type": "markdown",
   "metadata": {},
   "source": [
    "Write a program which will find all such numbers which are divisible by 7 but are not a multiple of 5,\n",
    "between 2000 and 3200 (both included).\n",
    "The numbers obtained should be printed in a comma-separated sequence on a single line."
   ]
  },
  {
   "cell_type": "code",
   "execution_count": null,
   "metadata": {},
   "outputs": [],
   "source": [
    "l=[]\n",
    "for i in range(2000, 3201):\n",
    "    if (i%7==0) and (i%5!=0):\n",
    "        l.append(str(i))\n",
    "\n",
    "print ','.join(l)"
   ]
  },
  {
   "cell_type": "code",
   "execution_count": null,
   "metadata": {},
   "outputs": [],
   "source": [
    "#Write a program which can compute the factorial of a given numbers.\n",
    "#The results should be printed in a comma-separated sequence on a single line.\n",
    "#Suppose the following input is supplied to the program:\n",
    "#8\n",
    "#Then, the output should be:\n",
    "#40320\n",
    "def fact(x):\n",
    "    if x == 0:\n",
    "        return 1\n",
    "    return x * fact(x - 1)\n",
    "\n",
    "x=int(raw_input())\n",
    "print fact(x)\n"
   ]
  },
  {
   "cell_type": "code",
   "execution_count": null,
   "metadata": {},
   "outputs": [],
   "source": [
    "#With a given integral number n, write a program to generate a dictionary that contains (i, i*i) such that is an integral number between 1 and n (both included). and then the program should print the dictionary.\n",
    "#Suppose the following input is supplied to the program:\n",
    "#8\n",
    "#Then, the output should be:\n",
    "#{1: 1, 2: 4, 3: 9, 4: 16, 5: 25, 6: 36, 7: 49, 8: 64}\n",
    "\n",
    "#Hints:\n",
    "#In case of input data being supplied to the question, it should be assumed to be a console input.\n",
    "#Consider use dict()\n",
    "\n",
    "\n",
    "n=int(raw_input())\n",
    "d=dict()\n",
    "for i in range(1,n+1):\n",
    "    d[i]=i*i\n",
    "\n",
    "print d"
   ]
  },
  {
   "cell_type": "code",
   "execution_count": null,
   "metadata": {},
   "outputs": [],
   "source": [
    "#Write a program which accepts a sequence of comma-separated numbers from console and generate a list and a tuple which contains every number.\n",
    "#Suppose the following input is supplied to the program:\n",
    "#34,67,55,33,12,98\n",
    "#Then, the output should be:\n",
    "#['34', '67', '55', '33', '12', '98']\n",
    "#('34', '67', '55', '33', '12', '98')\n",
    "\n",
    "#Hints:\n",
    "#In case of input data being supplied to the question, it should be assumed to be a console input.\n",
    "#tuple() method can convert list to tuple\n",
    "\n",
    "#Solution:\n",
    "values=raw_input()\n",
    "l=values.split(\",\")\n",
    "t=tuple(l)\n",
    "print l\n",
    "print t"
   ]
  },
  {
   "cell_type": "code",
   "execution_count": null,
   "metadata": {},
   "outputs": [],
   "source": [
    "#Define a class which has at least two methods:\n",
    "#getString: to get a string from console input\n",
    "#printString: to print the string in upper case.\n",
    "#Also please include simple test function to test the class methods.\n",
    "\n",
    "#Hints:\n",
    "#Use __init__ method to construct some parameters\n",
    "\n",
    "#Solution:\n",
    "class InputOutString(object):\n",
    "    def __init__(self):\n",
    "        self.s = \"\"\n",
    "\n",
    "    def getString(self):\n",
    "        self.s = raw_input()\n",
    "\n",
    "    def printString(self):\n",
    "        print self.s.upper()\n",
    "\n",
    "strObj = InputOutString()\n",
    "strObj.getString()\n",
    "strObj.printString()"
   ]
  },
  {
   "cell_type": "code",
   "execution_count": null,
   "metadata": {},
   "outputs": [],
   "source": [
    "#Write a program that calculates and prints the value according to the given formula:\n",
    "#Q = Square root of [(2 * C * D)/H]\n",
    "#Following are the fixed values of C and H:\n",
    "#C is 50. H is 30.\n",
    "#D is the variable whose values should be input to your program in a comma-separated sequence.\n",
    "#Example\n",
    "#Let us assume the following comma separated input sequence is given to the program:\n",
    "#100,150,180\n",
    "#The output of the program should be:\n",
    "#18,22,24\n",
    "\n",
    "#Hints:\n",
    "#If the output received is in decimal form, it should be rounded off to its nearest value (for example, if the output received is 26.0, it should be printed as 26)\n",
    "#In case of input data being supplied to the question, it should be assumed to be a console input. \n",
    "\n",
    "#Solution:\n",
    "#!/usr/bin/env python\n",
    "import math\n",
    "c=50\n",
    "h=30\n",
    "value = []\n",
    "items=[x for x in raw_input().split(',')]\n",
    "for d in items:\n",
    "    value.append(str(int(round(math.sqrt(2*c*float(d)/h)))))\n",
    "\n",
    "print ','.join(value)"
   ]
  },
  {
   "cell_type": "code",
   "execution_count": null,
   "metadata": {},
   "outputs": [],
   "source": [
    "#Write a program which takes 2 digits, X,Y as input and generates a 2-dimensional array. The element value in the i-th row and j-th column of the array should be i*j.\n",
    "#Note: i=0,1.., X-1; j=0,1,¡­Y-1.\n",
    "#Example\n",
    "#Suppose the following inputs are given to the program:\n",
    "#3,5\n",
    "#Then, the output of the program should be:\n",
    "#[[0, 0, 0, 0, 0], [0, 1, 2, 3, 4], [0, 2, 4, 6, 8]] \n",
    "\n",
    "#Hints:\n",
    "#Note: In case of input data being supplied to the question, it should be assumed to be a console input in a comma-separated form.\n",
    "\n",
    "#Solution:\n",
    "input_str = raw_input()\n",
    "dimensions=[int(x) for x in input_str.split(',')]\n",
    "rowNum=dimensions[0]\n",
    "colNum=dimensions[1]\n",
    "multilist = [[0 for col in range(colNum)] for row in range(rowNum)]\n",
    "\n",
    "for row in range(rowNum):\n",
    "    for col in range(colNum):\n",
    "        multilist[row][col]= row*col\n",
    "\n",
    "print multilist"
   ]
  },
  {
   "cell_type": "code",
   "execution_count": null,
   "metadata": {},
   "outputs": [],
   "source": [
    "#Write a program that accepts a comma separated sequence of words as input and prints the words in a comma-separated sequence after sorting them alphabetically.\n",
    "##Suppose the following input is supplied to the program:\n",
    "#without,hello,bag,world\n",
    "#Then, the output should be:\n",
    "#bag,hello,without,world\n",
    "\n",
    "#Hints:\n",
    "#In case of input data being supplied to the question, it should be assumed to be a console input.\n",
    "\n",
    "#Solution:\n",
    "items=[x for x in raw_input().split(',')]\n",
    "items.sort()\n",
    "print ','.join(items)"
   ]
  },
  {
   "cell_type": "code",
   "execution_count": null,
   "metadata": {},
   "outputs": [],
   "source": [
    "#Write a program that accepts sequence of lines as input and prints the lines after making all characters in the sentence capitalized.\n",
    "#Suppose the following input is supplied to the program:\n",
    "#Hello world\n",
    "#Practice makes perfect\n",
    "#Then, the output should be:\n",
    "#HELLO WORLD\n",
    "#PRACTICE MAKES PERFECT\n",
    "\n",
    "#Hints:\n",
    "#In case of input data being supplied to the question, it should be assumed to be a console input.\n",
    "\n",
    "#Solution:\n",
    "lines = []\n",
    "while True:\n",
    "    s = raw_input()\n",
    "    if s:\n",
    "        lines.append(s.upper())\n",
    "    else:\n",
    "        break;\n",
    "\n",
    "for sentence in lines:\n",
    "    print sentence"
   ]
  },
  {
   "cell_type": "code",
   "execution_count": null,
   "metadata": {},
   "outputs": [],
   "source": [
    "Write a program which accepts a sequence of comma separated 4 digit binary numbers as its input and then check whether they are divisible by 5 or not. The numbers that are divisible by 5 are to be printed in a comma separated sequence.\n",
    "Example:\n",
    "0100,0011,1010,1001\n",
    "Then the output should be:\n",
    "1010\n",
    "Notes: Assume the data is input by console.\n",
    "\n",
    "Hints:\n",
    "In case of input data being supplied to the question, it should be assumed to be a console input.\n",
    "\n",
    "Solution:\n",
    "value = []\n",
    "items=[x for x in raw_input().split(',')]\n",
    "for p in items:\n",
    "    intp = int(p, 2)\n",
    "    if not intp%5:\n",
    "        value.append(p)\n",
    "\n",
    "print ','.join(value)"
   ]
  },
  {
   "cell_type": "code",
   "execution_count": null,
   "metadata": {},
   "outputs": [],
   "source": [
    "#Write a program that accepts a sequence of whitespace separated words as input and prints the words after removing all duplicate words and sorting them alphanumerically.\n",
    "#Suppose the following input is supplied to the program:\n",
    "#hello world and practice makes perfect and hello world again\n",
    "#Then, the output should be:\n",
    "#again and hello makes perfect practice world\n",
    "\n",
    "#Hints:\n",
    "#In case of input data being supplied to the question, it should be assumed to be a console input.\n",
    "#We use set container to remove duplicated data automatically and then use sorted() to sort the data.\n",
    "\n",
    "#Solution:\n",
    "s = raw_input()\n",
    "words = [word for word in s.split(\" \")]\n",
    "print \" \".join(sorted(list(set(words))))"
   ]
  },
  {
   "cell_type": "code",
   "execution_count": null,
   "metadata": {},
   "outputs": [],
   "source": [
    "Write a program, which will find all such numbers between 1000 and 3000 (both included) such that each digit of the number is an even number.\n",
    "The numbers obtained should be printed in a comma-separated sequence on a single line.\n",
    "\n",
    "Hints:\n",
    "In case of input data being supplied to the question, it should be assumed to be a console input.\n",
    "\n",
    "Solution:\n",
    "values = []\n",
    "for i in range(1000, 3001):\n",
    "    s = str(i)\n",
    "    if (int(s[0])%2==0) and (int(s[1])%2==0) and (int(s[2])%2==0) and (int(s[3])%2==0):\n",
    "        values.append(s)\n",
    "print \",\".join(values)"
   ]
  },
  {
   "cell_type": "code",
   "execution_count": null,
   "metadata": {},
   "outputs": [],
   "source": [
    "Write a program that accepts a sentence and calculate the number of letters and digits.\n",
    "Suppose the following input is supplied to the program:\n",
    "hello world! 123\n",
    "Then, the output should be:\n",
    "LETTERS 10\n",
    "DIGITS 3\n",
    "\n",
    "Hints:\n",
    "In case of input data being supplied to the question, it should be assumed to be a console input.\n",
    "\n",
    "Solution:\n",
    "s = raw_input()\n",
    "d={\"DIGITS\":0, \"LETTERS\":0}\n",
    "for c in s:\n",
    "    if c.isdigit():\n",
    "        d[\"DIGITS\"]+=1\n",
    "    elif c.isalpha():\n",
    "        d[\"LETTERS\"]+=1\n",
    "    else:\n",
    "        pass\n",
    "print \"LETTERS\", d[\"LETTERS\"]\n",
    "print \"DIGITS\", d[\"DIGITS\"]"
   ]
  },
  {
   "cell_type": "code",
   "execution_count": null,
   "metadata": {},
   "outputs": [],
   "source": [
    "Write a program that accepts a sentence and calculate the number of upper case letters and lower case letters.\n",
    "Suppose the following input is supplied to the program:\n",
    "Hello world!\n",
    "Then, the output should be:\n",
    "UPPER CASE 1\n",
    "LOWER CASE 9\n",
    "\n",
    "Hints:\n",
    "In case of input data being supplied to the question, it should be assumed to be a console input.\n",
    "\n",
    "Solution:\n",
    "s = raw_input()\n",
    "d={\"UPPER CASE\":0, \"LOWER CASE\":0}\n",
    "for c in s:\n",
    "    if c.isupper():\n",
    "        d[\"UPPER CASE\"]+=1\n",
    "    elif c.islower():\n",
    "        d[\"LOWER CASE\"]+=1\n",
    "    else:\n",
    "        pass\n",
    "print \"UPPER CASE\", d[\"UPPER CASE\"]\n",
    "print \"LOWER CASE\", d[\"LOWER CASE\"]"
   ]
  },
  {
   "cell_type": "code",
   "execution_count": null,
   "metadata": {},
   "outputs": [],
   "source": [
    "Write a program that computes the value of a+aa+aaa+aaaa with a given digit as the value of a.\n",
    "Suppose the following input is supplied to the program:\n",
    "9\n",
    "Then, the output should be:\n",
    "11106\n",
    "\n",
    "Hints:\n",
    "In case of input data being supplied to the question, it should be assumed to be a console input.\n",
    "\n",
    "Solution:\n",
    "a = raw_input()\n",
    "n1 = int( \"%s\" % a )\n",
    "n2 = int( \"%s%s\" % (a,a) )\n",
    "n3 = int( \"%s%s%s\" % (a,a,a) )\n",
    "n4 = int( \"%s%s%s%s\" % (a,a,a,a) )\n",
    "print n1+n2+n3+n4"
   ]
  },
  {
   "cell_type": "code",
   "execution_count": null,
   "metadata": {},
   "outputs": [],
   "source": [
    "Use a list comprehension to square each odd number in a list. The list is input by a sequence of comma-separated numbers.\n",
    "Suppose the following input is supplied to the program:\n",
    "1,2,3,4,5,6,7,8,9\n",
    "Then, the output should be:\n",
    "1,3,5,7,9\n",
    "\n",
    "Hints:\n",
    "In case of input data being supplied to the question, it should be assumed to be a console input.\n",
    "\n",
    "Solution:\n",
    "values = raw_input()\n",
    "numbers = [x for x in values.split(\",\") if int(x)%2!=0]\n",
    "print \",\".join(numbers)"
   ]
  },
  {
   "cell_type": "code",
   "execution_count": null,
   "metadata": {},
   "outputs": [],
   "source": [
    "Write a program that computes the net amount of a bank account based a transaction log from console input. The transaction log format is shown as following:\n",
    "D 100\n",
    "W 200\n",
    "\n",
    "D means deposit while W means withdrawal.\n",
    "Suppose the following input is supplied to the program:\n",
    "D 300\n",
    "D 300\n",
    "W 200\n",
    "D 100\n",
    "Then, the output should be:\n",
    "500\n",
    "\n",
    "Hints:\n",
    "In case of input data being supplied to the question, it should be assumed to be a console input.\n",
    "\n",
    "Solution:\n",
    "netAmount = 0\n",
    "while True:\n",
    "    s = raw_input()\n",
    "    if not s:\n",
    "        break\n",
    "    values = s.split(\" \")\n",
    "    operation = values[0]\n",
    "    amount = int(values[1])\n",
    "    if operation==\"D\":\n",
    "        netAmount+=amount\n",
    "    elif operation==\"W\":\n",
    "        netAmount-=amount\n",
    "    else:\n",
    "        pass\n",
    "print netAmount"
   ]
  },
  {
   "cell_type": "code",
   "execution_count": null,
   "metadata": {},
   "outputs": [],
   "source": [
    "A website requires the users to input username and password to register. Write a program to check the validity of password input by users.\n",
    "Following are the criteria for checking the password:\n",
    "1. At least 1 letter between [a-z]\n",
    "2. At least 1 number between [0-9]\n",
    "1. At least 1 letter between [A-Z]\n",
    "3. At least 1 character from [$#@]\n",
    "4. Minimum length of transaction password: 6\n",
    "5. Maximum length of transaction password: 12\n",
    "Your program should accept a sequence of comma separated passwords and will check them according to the above criteria. Passwords that match the criteria are to be printed, each separated by a comma.\n",
    "Example\n",
    "If the following passwords are given as input to the program:\n",
    "ABd1234@1,a F1#,2w3E*,2We3345\n",
    "Then, the output of the program should be:\n",
    "ABd1234@1\n",
    "\n",
    "Hints:\n",
    "In case of input data being supplied to the question, it should be assumed to be a console input.\n",
    "\n",
    "Solutions:\n",
    "import re\n",
    "value = []\n",
    "items=[x for x in raw_input().split(',')]\n",
    "for p in items:\n",
    "    if len(p)<6 or len(p)>12:\n",
    "        continue\n",
    "    else:\n",
    "        pass\n",
    "    if not re.search(\"[a-z]\",p):\n",
    "        continue\n",
    "    elif not re.search(\"[0-9]\",p):\n",
    "        continue\n",
    "    elif not re.search(\"[A-Z]\",p):\n",
    "        continue\n",
    "    elif not re.search(\"[$#@]\",p):\n",
    "        continue\n",
    "    elif re.search(\"\\s\",p):\n",
    "        continue\n",
    "    else:\n",
    "        pass\n",
    "    value.append(p)\n",
    "print \",\".join(value)"
   ]
  },
  {
   "cell_type": "code",
   "execution_count": null,
   "metadata": {},
   "outputs": [],
   "source": [
    "You are required to write a program to sort the (name, age, height) tuples by ascending order where name is string, age and height are numbers. The tuples are input by console. The sort criteria is:\n",
    "1: Sort based on name;\n",
    "2: Then sort based on age;\n",
    "3: Then sort by score.\n",
    "The priority is that name > age > score.\n",
    "If the following tuples are given as input to the program:\n",
    "Tom,19,80\n",
    "John,20,90\n",
    "Jony,17,91\n",
    "Jony,17,93\n",
    "Json,21,85\n",
    "Then, the output of the program should be:\n",
    "[('John', '20', '90'), ('Jony', '17', '91'), ('Jony', '17', '93'), ('Json', '21', '85'), ('Tom', '19', '80')]\n",
    "\n",
    "Hints:\n",
    "In case of input data being supplied to the question, it should be assumed to be a console input.\n",
    "We use itemgetter to enable multiple sort keys.\n",
    "\n",
    "Solutions:\n",
    "from operator import itemgetter, attrgetter\n",
    "\n",
    "l = []\n",
    "while True:\n",
    "    s = raw_input()\n",
    "    if not s:\n",
    "        break\n",
    "    l.append(tuple(s.split(\",\")))\n",
    "\n",
    "print sorted(l, key=itemgetter(0,1,2))"
   ]
  },
  {
   "cell_type": "code",
   "execution_count": null,
   "metadata": {},
   "outputs": [],
   "source": [
    "Define a class with a generator which can iterate the numbers, which are divisible by 7, between a given range 0 and n.\n",
    "\n",
    "Hints:\n",
    "Consider use yield\n",
    "\n",
    "Solution:\n",
    "def putNumbers(n):\n",
    "    i = 0\n",
    "    while i<n:\n",
    "        j=i\n",
    "        i=i+1\n",
    "        if j%7==0:\n",
    "            yield j\n",
    "\n",
    "for i in reverse(100):\n",
    "    print i"
   ]
  },
  {
   "cell_type": "code",
   "execution_count": null,
   "metadata": {},
   "outputs": [],
   "source": [
    "A robot moves in a plane starting from the original point (0,0). The robot can move toward UP, DOWN, LEFT and RIGHT with a given steps. The trace of robot movement is shown as the following:\n",
    "UP 5\n",
    "DOWN 3\n",
    "LEFT 3\n",
    "RIGHT 2\n",
    "¡­\n",
    "The numbers after the direction are steps. Please write a program to compute the distance from current position after a sequence of movement and original point. If the distance is a float, then just print the nearest integer.\n",
    "Example:\n",
    "If the following tuples are given as input to the program:\n",
    "UP 5\n",
    "DOWN 3\n",
    "LEFT 3\n",
    "RIGHT 2\n",
    "Then, the output of the program should be:\n",
    "2\n",
    "\n",
    "Hints:\n",
    "In case of input data being supplied to the question, it should be assumed to be a console input.\n",
    "\n",
    "Solution:\n",
    "import math\n",
    "pos = [0,0]\n",
    "while True:\n",
    "    s = raw_input()\n",
    "    if not s:\n",
    "        break\n",
    "    movement = s.split(\" \")\n",
    "    direction = movement[0]\n",
    "    steps = int(movement[1])\n",
    "    if direction==\"UP\":\n",
    "        pos[0]+=steps\n",
    "    elif direction==\"DOWN\":\n",
    "        pos[0]-=steps\n",
    "    elif direction==\"LEFT\":\n",
    "        pos[1]-=steps\n",
    "    elif direction==\"RIGHT\":\n",
    "        pos[1]+=steps\n",
    "    else:\n",
    "        pass\n",
    "\n",
    "print int(round(math.sqrt(pos[1]**2+pos[0]**2)))"
   ]
  },
  {
   "cell_type": "code",
   "execution_count": null,
   "metadata": {},
   "outputs": [],
   "source": [
    "Write a program to compute the frequency of the words from the input. The output should output after sorting the key alphanumerically. \n",
    "Suppose the following input is supplied to the program:\n",
    "New to Python or choosing between Python 2 and Python 3? Read Python 2 or Python 3.\n",
    "Then, the output should be:\n",
    "2:2\n",
    "3.:1\n",
    "3?:1\n",
    "New:1\n",
    "Python:5\n",
    "Read:1\n",
    "and:1\n",
    "between:1\n",
    "choosing:1\n",
    "or:2\n",
    "to:1\n",
    "\n",
    "Hints\n",
    "In case of input data being supplied to the question, it should be assumed to be a console input.\n",
    "\n",
    "Solution:\n",
    "freq = {}   # frequency of words in text\n",
    "line = raw_input()\n",
    "for word in line.split():\n",
    "    freq[word] = freq.get(word,0)+1\n",
    "\n",
    "words = freq.keys()\n",
    "words.sort()\n",
    "\n",
    "for w in words:\n",
    "    print \"%s:%d\" % (w,freq[w])"
   ]
  },
  {
   "cell_type": "code",
   "execution_count": null,
   "metadata": {},
   "outputs": [],
   "source": [
    "  Write a method which can calculate square value of number\n",
    "\n",
    "Hints:\n",
    "    Using the ** operator\n",
    "\n",
    "Solution:\n",
    "def square(num):\n",
    "    return num ** 2\n",
    "\n",
    "print square(2)\n",
    "print square(3)"
   ]
  },
  {
   "cell_type": "code",
   "execution_count": null,
   "metadata": {},
   "outputs": [],
   "source": [
    " Python has many built-in functions, and if you do not know how to use it, you can read document online or find some books. But Python has a built-in document function for every built-in functions.\n",
    "    Please write a program to print some Python built-in functions documents, such as abs(), int(), raw_input()\n",
    "    And add document for your own function\n",
    "    \n",
    "Hints:\n",
    "    The built-in document method is __doc__\n",
    "\n",
    "Solution:\n",
    "print abs.__doc__\n",
    "print int.__doc__\n",
    "print raw_input.__doc__\n",
    "\n",
    "def square(num):\n",
    "    '''Return the square value of the input number.\n",
    "    \n",
    "    The input number must be integer.\n",
    "    '''\n",
    "    return num ** 2\n",
    "\n",
    "print square(2)\n",
    "print square.__doc__"
   ]
  },
  {
   "cell_type": "code",
   "execution_count": null,
   "metadata": {},
   "outputs": [],
   "source": [
    "Define a class, which have a class parameter and have a same instance parameter.\n",
    "\n",
    "Hints:\n",
    "    Define a instance parameter, need add it in __init__ method\n",
    "    You can init a object with construct parameter or set the value later\n",
    "\n",
    "Solution:\n",
    "class Person:\n",
    "    # Define the class parameter \"name\"\n",
    "    name = \"Person\"\n",
    "    \n",
    "    def __init__(self, name = None):\n",
    "        # self.name is the instance parameter\n",
    "        self.name = name\n",
    "\n",
    "jeffrey = Person(\"Jeffrey\")\n",
    "print \"%s name is %s\" % (Person.name, jeffrey.name)\n",
    "\n",
    "nico = Person()\n",
    "nico.name = \"Nico\"\n",
    "print \"%s name is %s\" % (Person.name, nico.name)"
   ]
  },
  {
   "cell_type": "code",
   "execution_count": null,
   "metadata": {},
   "outputs": [],
   "source": [
    "Define a function which can compute the sum of two numbers.\n",
    "\n",
    "Hints:\n",
    "Define a function with two numbers as arguments. You can compute the sum in the function and return the value.\n",
    "\n",
    "Solution\n",
    "def SumFunction(number1, number2):\n",
    "\treturn number1+number2\n",
    "\n",
    "print SumFunction(1,2)\n"
   ]
  },
  {
   "cell_type": "code",
   "execution_count": null,
   "metadata": {},
   "outputs": [],
   "source": [
    "Define a function that can convert a integer into a string and print it in console.\n",
    "\n",
    "Hints:\n",
    "\n",
    "Use str() to convert a number to string.\n",
    "\n",
    "Solution\n",
    "def printValue(n):\n",
    "\tprint str(n)\n",
    "\n",
    "printValue(3)"
   ]
  },
  {
   "cell_type": "code",
   "execution_count": null,
   "metadata": {},
   "outputs": [],
   "source": [
    "Define a function that can convert a integer into a string and print it in console.\n",
    "\n",
    "Hints:\n",
    "\n",
    "Use str() to convert a number to string.\n",
    "\n",
    "Solution\n",
    "def printValue(n):\n",
    "\tprint str(n)\n",
    "\n",
    "printValue(3)"
   ]
  },
  {
   "cell_type": "code",
   "execution_count": null,
   "metadata": {},
   "outputs": [],
   "source": [
    "Define a function that can receive two integral numbers in string form and compute their sum and then print it in console.\n",
    "\n",
    "Hints:\n",
    "\n",
    "Use int() to convert a string to integer.\n",
    "\n",
    "Solution\n",
    "def printValue(s1,s2):\n",
    "\tprint int(s1)+int(s2)\n",
    "\n",
    "printValue(\"3\",\"4\") #7"
   ]
  },
  {
   "cell_type": "code",
   "execution_count": null,
   "metadata": {},
   "outputs": [],
   "source": [
    "Define a function that can accept two strings as input and concatenate them and then print it in console.\n",
    "\n",
    "Hints:\n",
    "\n",
    "Use + to concatenate the strings\n",
    "\n",
    "Solution\n",
    "def printValue(s1,s2):\n",
    "\tprint s1+s2\n",
    "\n",
    "printValue(\"3\",\"4\") #34"
   ]
  },
  {
   "cell_type": "code",
   "execution_count": null,
   "metadata": {},
   "outputs": [],
   "source": [
    "Define a function that can accept two strings as input and print the string with maximum length in console. If two strings have the same length, then the function should print al l strings line by line.\n",
    "\n",
    "Hints:\n",
    "\n",
    "Use len() function to get the length of a string\n",
    "\n",
    "Solution\n",
    "def printValue(s1,s2):\n",
    "\tlen1 = len(s1)\n",
    "\tlen2 = len(s2)\n",
    "\tif len1>len2:\n",
    "\t\tprint s1\n",
    "\telif len2>len1:\n",
    "\t\tprint s2\n",
    "\telse:\n",
    "\t\tprint s1\n",
    "\t\tprint s2\n",
    "\t\t\n",
    "\n",
    "printValue(\"one\",\"three\")"
   ]
  },
  {
   "cell_type": "code",
   "execution_count": null,
   "metadata": {},
   "outputs": [],
   "source": [
    "Define a function that can accept an integer number as input and print the \"It is an even number\" if the number is even, otherwise print \"It is an odd number\".\n",
    "\n",
    "Hints:\n",
    "\n",
    "Use % operator to check if a number is even or odd.\n",
    "\n",
    "Solution\n",
    "def checkValue(n):\n",
    "\tif n%2 == 0:\n",
    "\t\tprint \"It is an even number\"\n",
    "\telse:\n",
    "\t\tprint \"It is an odd number\"\n",
    "\t\t\n",
    "\n",
    "checkValue(7)"
   ]
  },
  {
   "cell_type": "code",
   "execution_count": null,
   "metadata": {},
   "outputs": [],
   "source": [
    "Define a function which can print a dictionary where the keys are numbers between 1 and 3 (both included) and the values are square of keys.\n",
    "\n",
    "Hints:\n",
    "\n",
    "Use dict[key]=value pattern to put entry into a dictionary.\n",
    "Use ** operator to get power of a number.\n",
    "\n",
    "Solution\n",
    "def printDict():\n",
    "\td=dict()\n",
    "\td[1]=1\n",
    "\td[2]=2**2\n",
    "\td[3]=3**2\n",
    "\tprint d\n",
    "\t\t\n",
    "\n",
    "printDict()\n"
   ]
  },
  {
   "cell_type": "code",
   "execution_count": null,
   "metadata": {},
   "outputs": [],
   "source": [
    "Define a function which can print a dictionary where the keys are numbers between 1 and 20 (both included) and the values are square of keys.\n",
    "\n",
    "Hints:\n",
    "\n",
    "Use dict[key]=value pattern to put entry into a dictionary.\n",
    "Use ** operator to get power of a number.\n",
    "Use range() for loops.\n",
    "\n",
    "Solution\n",
    "def printDict():\n",
    "\td=dict()\n",
    "\tfor i in range(1,21):\n",
    "\t\td[i]=i**2\n",
    "\tprint d\n",
    "\t\t\n",
    "\n",
    "printDict()\n"
   ]
  },
  {
   "cell_type": "code",
   "execution_count": null,
   "metadata": {},
   "outputs": [],
   "source": [
    "Define a function which can generate a dictionary where the keys are numbers between 1 and 20 (both included) and the values are square of keys. The function should just print the values only.\n",
    "\n",
    "Hints:\n",
    "\n",
    "Use dict[key]=value pattern to put entry into a dictionary.\n",
    "Use ** operator to get power of a number.\n",
    "Use range() for loops.\n",
    "Use keys() to iterate keys in the dictionary. Also we can use item() to get key/value pairs.\n",
    "\n",
    "Solution\n",
    "def printDict():\n",
    "\td=dict()\n",
    "\tfor i in range(1,21):\n",
    "\t\td[i]=i**2\n",
    "\tfor (k,v) in d.items():\t\n",
    "\t\tprint v\n",
    "\t\t\n",
    "\n",
    "printDict()"
   ]
  },
  {
   "cell_type": "code",
   "execution_count": null,
   "metadata": {},
   "outputs": [],
   "source": [
    "Define a function which can generate a dictionary where the keys are numbers between 1 and 20 (both included) and the values are square of keys. The function should just print the keys only.\n",
    "\n",
    "Hints:\n",
    "\n",
    "Use dict[key]=value pattern to put entry into a dictionary.\n",
    "Use ** operator to get power of a number.\n",
    "Use range() for loops.\n",
    "Use keys() to iterate keys in the dictionary. Also we can use item() to get key/value pairs.\n",
    "\n",
    "Solution\n",
    "def printDict():\n",
    "\td=dict()\n",
    "\tfor i in range(1,21):\n",
    "\t\td[i]=i**2\n",
    "\tfor k in d.keys():\t\n",
    "\t\tprint k\n",
    "\t\t\n",
    "\n",
    "printDict()\n"
   ]
  },
  {
   "cell_type": "code",
   "execution_count": null,
   "metadata": {},
   "outputs": [],
   "source": [
    "Define a function which can generate and print a list where the values are square of numbers between 1 and 20 (both included).\n",
    "\n",
    "Hints:\n",
    "\n",
    "Use ** operator to get power of a number.\n",
    "Use range() for loops.\n",
    "Use list.append() to add values into a list.\n",
    "\n",
    "Solution\n",
    "def printList():\n",
    "\tli=list()\n",
    "\tfor i in range(1,21):\n",
    "\t\tli.append(i**2)\n",
    "\tprint li\n",
    "\t\t\n",
    "\n",
    "printList()"
   ]
  },
  {
   "cell_type": "code",
   "execution_count": null,
   "metadata": {},
   "outputs": [],
   "source": [
    "Define a function which can generate a list where the values are square of numbers between 1 and 20 (both included). Then the function needs to print the first 5 elements in the list.\n",
    "\n",
    "Hints:\n",
    "\n",
    "Use ** operator to get power of a number.\n",
    "Use range() for loops.\n",
    "Use list.append() to add values into a list.\n",
    "Use [n1:n2] to slice a list\n",
    "\n",
    "Solution\n",
    "def printList():\n",
    "\tli=list()\n",
    "\tfor i in range(1,21):\n",
    "\t\tli.append(i**2)\n",
    "\tprint li[:5]\n",
    "\t\t\n",
    "\n",
    "printList()"
   ]
  },
  {
   "cell_type": "code",
   "execution_count": null,
   "metadata": {},
   "outputs": [],
   "source": [
    "Define a function which can generate a list where the values are square of numbers between 1 and 20 (both included). Then the function needs to print the last 5 elements in the list.\n",
    "\n",
    "Hints:\n",
    "\n",
    "Use ** operator to get power of a number.\n",
    "Use range() for loops.\n",
    "Use list.append() to add values into a list.\n",
    "Use [n1:n2] to slice a list\n",
    "\n",
    "Solution\n",
    "def printList():\n",
    "\tli=list()\n",
    "\tfor i in range(1,21):\n",
    "\t\tli.append(i**2)\n",
    "\tprint li[-5:]\n",
    "\t\t\n",
    "\n",
    "printList()"
   ]
  },
  {
   "cell_type": "code",
   "execution_count": null,
   "metadata": {},
   "outputs": [],
   "source": [
    "Define a function which can generate a list where the values are square of numbers between 1 and 20 (both included). Then the function needs to print all values except the first 5 elements in the list.\n",
    "\n",
    "Hints:\n",
    "\n",
    "Use ** operator to get power of a number.\n",
    "Use range() for loops.\n",
    "Use list.append() to add values into a list.\n",
    "Use [n1:n2] to slice a list\n",
    "\n",
    "Solution\n",
    "def printList():\n",
    "\tli=list()\n",
    "\tfor i in range(1,21):\n",
    "\t\tli.append(i**2)\n",
    "\tprint li[5:]\n",
    "\t\t\n",
    "\n",
    "printList()"
   ]
  },
  {
   "cell_type": "code",
   "execution_count": null,
   "metadata": {},
   "outputs": [],
   "source": [
    "Define a function which can generate and print a tuple where the value are square of numbers between 1 and 20 (both included). \n",
    "\n",
    "Hints:\n",
    "\n",
    "Use ** operator to get power of a number.\n",
    "Use range() for loops.\n",
    "Use list.append() to add values into a list.\n",
    "Use tuple() to get a tuple from a list.\n",
    "\n",
    "Solution\n",
    "def printTuple():\n",
    "\tli=list()\n",
    "\tfor i in range(1,21):\n",
    "\t\tli.append(i**2)\n",
    "\tprint tuple(li)\n",
    "\t\t\n",
    "printTuple()"
   ]
  },
  {
   "cell_type": "code",
   "execution_count": null,
   "metadata": {},
   "outputs": [],
   "source": [
    "With a given tuple (1,2,3,4,5,6,7,8,9,10), write a program to print the first half values in one line and the last half values in one line. \n",
    "\n",
    "Hints:\n",
    "\n",
    "Use [n1:n2] notation to get a slice from a tuple.\n",
    "\n",
    "Solution\n",
    "tp=(1,2,3,4,5,6,7,8,9,10)\n",
    "tp1=tp[:5]\n",
    "tp2=tp[5:]\n",
    "print tp1\n",
    "print tp2"
   ]
  },
  {
   "cell_type": "code",
   "execution_count": null,
   "metadata": {},
   "outputs": [],
   "source": [
    "Write a program to generate and print another tuple whose values are even numbers in the given tuple (1,2,3,4,5,6,7,8,9,10). \n",
    "\n",
    "Hints:\n",
    "\n",
    "Use \"for\" to iterate the tuple\n",
    "Use tuple() to generate a tuple from a list.\n",
    "\n",
    "Solution\n",
    "tp=(1,2,3,4,5,6,7,8,9,10)\n",
    "li=list()\n",
    "for i in tp:\n",
    "\tif tp[i]%2==0:\n",
    "\t\tli.append(tp[i])\n",
    "\n",
    "tp2=tuple(li)\n",
    "print tp2"
   ]
  },
  {
   "cell_type": "code",
   "execution_count": null,
   "metadata": {},
   "outputs": [],
   "source": [
    "Write a program which accepts a string as input to print \"Yes\" if the string is \"yes\" or \"YES\" or \"Yes\", otherwise print \"No\". \n",
    "\n",
    "Hints:\n",
    "\n",
    "Use if statement to judge condition.\n",
    "\n",
    "Solution\n",
    "s= raw_input()\n",
    "if s==\"yes\" or s==\"YES\" or s==\"Yes\":\n",
    "    print \"Yes\"\n",
    "else:\n",
    "    print \"No\""
   ]
  },
  {
   "cell_type": "code",
   "execution_count": null,
   "metadata": {},
   "outputs": [],
   "source": [
    "Write a program which can filter even numbers in a list by using filter function. The list is: [1,2,3,4,5,6,7,8,9,10].\n",
    "\n",
    "Hints:\n",
    "\n",
    "Use filter() to filter some elements in a list.\n",
    "Use lambda to define anonymous functions.\n",
    "\n",
    "Solution\n",
    "li = [1,2,3,4,5,6,7,8,9,10]\n",
    "evenNumbers = filter(lambda x: x%2==0, li)\n",
    "print evenNumbers\n"
   ]
  },
  {
   "cell_type": "code",
   "execution_count": null,
   "metadata": {},
   "outputs": [],
   "source": [
    "Write a program which can map() to make a list whose elements are square of elements in [1,2,3,4,5,6,7,8,9,10].\n",
    "\n",
    "Hints:\n",
    "\n",
    "Use map() to generate a list.\n",
    "Use lambda to define anonymous functions.\n",
    "\n",
    "Solution\n",
    "li = [1,2,3,4,5,6,7,8,9,10]\n",
    "squaredNumbers = map(lambda x: x**2, li)\n",
    "print squaredNumbers\n"
   ]
  },
  {
   "cell_type": "code",
   "execution_count": null,
   "metadata": {},
   "outputs": [],
   "source": [
    "Write a program which can map() and filter() to make a list whose elements are square of even number in [1,2,3,4,5,6,7,8,9,10].\n",
    "\n",
    "Hints:\n",
    "\n",
    "Use map() to generate a list.\n",
    "Use filter() to filter elements of a list.\n",
    "Use lambda to define anonymous functions.\n",
    "\n",
    "Solution\n",
    "li = [1,2,3,4,5,6,7,8,9,10]\n",
    "evenNumbers = map(lambda x: x**2, filter(lambda x: x%2==0, li))\n",
    "print evenNumbers"
   ]
  },
  {
   "cell_type": "code",
   "execution_count": null,
   "metadata": {},
   "outputs": [],
   "source": [
    "Write a program which can filter() to make a list whose elements are even number between 1 and 20 (both included).\n",
    "\n",
    "Hints:\n",
    "\n",
    "Use filter() to filter elements of a list.\n",
    "Use lambda to define anonymous functions.\n",
    "\n",
    "Solution\n",
    "evenNumbers = filter(lambda x: x%2==0, range(1,21))\n",
    "print evenNumbers\n"
   ]
  },
  {
   "cell_type": "code",
   "execution_count": null,
   "metadata": {},
   "outputs": [],
   "source": [
    "Write a program which can map() to make a list whose elements are square of numbers between 1 and 20 (both included).\n",
    "\n",
    "Hints:\n",
    "\n",
    "Use map() to generate a list.\n",
    "Use lambda to define anonymous functions.\n",
    "\n",
    "Solution\n",
    "squaredNumbers = map(lambda x: x**2, range(1,21))\n",
    "print squaredNumbers"
   ]
  },
  {
   "cell_type": "code",
   "execution_count": null,
   "metadata": {},
   "outputs": [],
   "source": [
    "Define a class named American which has a static method called printNationality.\n",
    "\n",
    "Hints:\n",
    "\n",
    "Use @staticmethod decorator to define class static method.\n",
    "\n",
    "Solution\n",
    "class American(object):\n",
    "    @staticmethod\n",
    "    def printNationality():\n",
    "        print \"America\"\n",
    "\n",
    "anAmerican = American()\n",
    "anAmerican.printNationality()\n",
    "American.printNationality()"
   ]
  },
  {
   "cell_type": "code",
   "execution_count": null,
   "metadata": {},
   "outputs": [],
   "source": [
    "Define a class named American and its subclass NewYorker. \n",
    "\n",
    "Hints:\n",
    "\n",
    "Use class Subclass(ParentClass) to define a subclass.\n",
    "\n",
    "Solution:\n",
    "\n",
    "class American(object):\n",
    "    pass\n",
    "\n",
    "class NewYorker(American):\n",
    "    pass\n",
    "\n",
    "anAmerican = American()\n",
    "aNewYorker = NewYorker()\n",
    "print anAmerican\n",
    "print aNewYorker\n"
   ]
  },
  {
   "cell_type": "code",
   "execution_count": null,
   "metadata": {},
   "outputs": [],
   "source": [
    "Define a class named Circle which can be constructed by a radius. The Circle class has a method which can compute the area. \n",
    "\n",
    "Hints:\n",
    "\n",
    "Use def methodName(self) to define a method.\n",
    "\n",
    "Solution:\n",
    "\n",
    "class Circle(object):\n",
    "    def __init__(self, r):\n",
    "        self.radius = r\n",
    "\n",
    "    def area(self):\n",
    "        return self.radius**2*3.14\n",
    "\n",
    "aCircle = Circle(2)\n",
    "print aCircle.area()\n"
   ]
  },
  {
   "cell_type": "code",
   "execution_count": null,
   "metadata": {},
   "outputs": [],
   "source": [
    "Define a class named Rectangle which can be constructed by a length and width. The Rectangle class has a method which can compute the area. \n",
    "\n",
    "Hints:\n",
    "\n",
    "Use def methodName(self) to define a method.\n",
    "\n",
    "Solution:\n",
    "\n",
    "class Rectangle(object):\n",
    "    def __init__(self, l, w):\n",
    "        self.length = l\n",
    "        self.width  = w\n",
    "\n",
    "    def area(self):\n",
    "        return self.length*self.width\n",
    "\n",
    "aRectangle = Rectangle(2,10)\n",
    "print aRectangle.area()"
   ]
  },
  {
   "cell_type": "code",
   "execution_count": null,
   "metadata": {},
   "outputs": [],
   "source": [
    "Define a class named Shape and its subclass Square. The Square class has an init function which takes a length as argument. Both classes have a area function which can print the area of the shape where Shape's area is 0 by default.\n",
    "\n",
    "Hints:\n",
    "\n",
    "To override a method in super class, we can define a method with the same name in the super class.\n",
    "\n",
    "Solution:\n",
    "\n",
    "class Shape(object):\n",
    "    def __init__(self):\n",
    "        pass\n",
    "\n",
    "    def area(self):\n",
    "        return 0\n",
    "\n",
    "class Square(Shape):\n",
    "    def __init__(self, l):\n",
    "        Shape.__init__(self)\n",
    "        self.length = l\n",
    "\n",
    "    def area(self):\n",
    "        return self.length*self.length\n",
    "\n",
    "aSquare= Square(3)\n",
    "print aSquare.area()"
   ]
  },
  {
   "cell_type": "code",
   "execution_count": null,
   "metadata": {},
   "outputs": [],
   "source": [
    "Write a function to compute 5/0 and use try/except to catch the exceptions.\n",
    "\n",
    "Hints:\n",
    "\n",
    "Use try/except to catch exceptions.\n",
    "\n",
    "Solution:\n",
    "\n",
    "def throws():\n",
    "    return 5/0\n",
    "\n",
    "try:\n",
    "    throws()\n",
    "except ZeroDivisionError:\n",
    "    print \"division by zero!\"\n",
    "except Exception, err:\n",
    "    print 'Caught an exception'\n",
    "finally:\n",
    "    print 'In finally block for cleanup'"
   ]
  },
  {
   "cell_type": "code",
   "execution_count": null,
   "metadata": {},
   "outputs": [],
   "source": [
    "import sys\n",
    "\n",
    "\n",
    "q = int(raw_input().strip())\n",
    "for a0 in xrange(q):\n",
    "    x,y,z = raw_input().strip().split(' ')\n",
    "    x,y,z = [int(x),int(y),int(z)]\n",
    "    if abs(x-z) == abs(y-z):\n",
    "        print 'Mouse C'\n",
    "    elif abs(x-z)<abs(y-z):\n",
    "        print 'Cat A'\n",
    "    else:\n",
    "        print 'Cat B'"
   ]
  },
  {
   "cell_type": "code",
   "execution_count": null,
   "metadata": {},
   "outputs": [],
   "source": [
    "import sys\n",
    "\n",
    "\n",
    "n = int(raw_input().strip())\n",
    "grid = []\n",
    "grid_i = 0\n",
    "for grid_i in xrange(n):\n",
    "   grid_t = str(raw_input().strip())\n",
    "   grid.append(grid_t)\n",
    "for i in range(1,len(grid)-1):\n",
    "    for j in range(1,len(grid[0])-1):\n",
    "        if grid[i][j] > grid[i+1][j] and grid[i][j] > grid[i][j+1] and grid[i][j] > grid[i-1][j] and grid[i][j] > grid[i][j-1]:\n",
    "            grid[i] = grid[i][:j] + \"X\" + grid[i][j+1:]\n",
    "\n",
    "for k in grid:\n",
    "    print k"
   ]
  },
  {
   "cell_type": "code",
   "execution_count": null,
   "metadata": {},
   "outputs": [],
   "source": [
    "import sys        \n",
    "\n",
    "t = int(raw_input().strip())\n",
    "for a0 in xrange(t):\n",
    "    n,c,m = raw_input().strip().split(' ')\n",
    "    n,c,m = [int(n),int(c),int(m)]\n",
    "    chocs= n/c\n",
    "    wrapper = chocs\n",
    "    ex_chocs = wrapper/m\n",
    "    while wrapper >= m:\n",
    "        ex_chocs = wrapper / m\n",
    "        wrapper = ex_chocs + wrapper % m\n",
    "        chocs += ex_chocs\n",
    "    print chocs"
   ]
  },
  {
   "cell_type": "code",
   "execution_count": null,
   "metadata": {},
   "outputs": [],
   "source": [
    "# circular array rotation\n",
    "(N,K,Q) = tuple(map(int,raw_input().split(\" \")))\n",
    "a = map(int, raw_input().split(\" \"))\n",
    "for q in xrange(Q):\n",
    "    query = input()\n",
    "    print a[(query - K) % N]"
   ]
  },
  {
   "cell_type": "code",
   "execution_count": null,
   "metadata": {},
   "outputs": [],
   "source": [
    "# climbing the leader board\n",
    "n = int(input().strip())\n",
    "scores = [int(scores_temp) for scores_temp in input().strip().split(' ')]\n",
    "m = int(input().strip())\n",
    "alice = [int(alice_temp) for alice_temp in input().strip().split(' ')]\n",
    "\n",
    "ranking = [scores[0]]\n",
    "\n",
    "for itm in scores:\n",
    "    if itm != ranking[-1]:\n",
    "        ranking.append(itm)\n",
    "\n",
    "inx = len(ranking) - 1\n",
    "\n",
    "for itm in alice:\n",
    "\n",
    "    while itm > ranking[inx] and inx > -1:\n",
    "        inx -= 1\n",
    "\n",
    "    if itm == ranking[inx]:\n",
    "        print (inx + 1)\n",
    "    else:\n",
    "        print (inx + 2)"
   ]
  },
  {
   "cell_type": "code",
   "execution_count": null,
   "metadata": {},
   "outputs": [],
   "source": [
    "## Climbing hill\n",
    "n = int(input())\n",
    "s = input()\n",
    "c = 0\n",
    "tc = 0\n",
    "for i in range(n):\n",
    "    if(s[i]==\"D\"): c+=1\n",
    "    else: c-= 1\n",
    "    if(c==0 and s[i] == \"U\"): tc += 1\n",
    "print(tc)"
   ]
  },
  {
   "cell_type": "code",
   "execution_count": null,
   "metadata": {},
   "outputs": [],
   "source": [
    "# cut the sticks\n",
    "import sys\n",
    "\n",
    "\n",
    "n = int(raw_input().strip())\n",
    "arr = map(int,raw_input().strip().split(' '))\n",
    "while len(arr) > 0:\n",
    "    print len(arr)\n",
    "    m = min(arr)\n",
    "    l = []\n",
    "    for i in arr:\n",
    "        j = i-m\n",
    "        if j != 0:\n",
    "            l += [j]\n",
    "    arr = l"
   ]
  },
  {
   "cell_type": "code",
   "execution_count": null,
   "metadata": {},
   "outputs": [],
   "source": [
    "# day of programmer\n",
    "import sys\n",
    "\n",
    "def solve(year):\n",
    "    if(year == 1918): return \"26.09.1918\"\n",
    "    if (((year%4 == 0 and year%100 != 0) or year%400==0) and year>=1917) or (year<=1917 and year%4 == 0):\n",
    "        return \"12.09.%d\" %(year)\n",
    "    return \"13.09.%d\" %(year)\n",
    "year = int(input().strip())\n",
    "result = solve(year)\n",
    "print(result)"
   ]
  },
  {
   "cell_type": "code",
   "execution_count": null,
   "metadata": {},
   "outputs": [],
   "source": [
    "# Designer_PDF_Viewer\n",
    "h = [int(h_temp) for h_temp in input().strip().split(' ')]\n",
    "word = input().strip()\n",
    "l = max([h[ord(i)-97] for i in word])\n",
    "print(l*len(word))"
   ]
  },
  {
   "cell_type": "code",
   "execution_count": null,
   "metadata": {},
   "outputs": [],
   "source": [
    "# Divisible_Sum_Pairs\n",
    "import sys\n",
    "\n",
    "\n",
    "n,k = raw_input().strip().split(' ')\n",
    "n,k = [int(n),int(k)]\n",
    "a = map(int,raw_input().strip().split(' '))\n",
    "c = 0\n",
    "for i in range(n-1):\n",
    "    for j in range(i+1,n):\n",
    "        if (a[i]+a[j]) % k == 0:\n",
    "            c += 1\n",
    "print c"
   ]
  },
  {
   "cell_type": "code",
   "execution_count": null,
   "metadata": {},
   "outputs": [],
   "source": [
    "# drawing\n",
    "import sys\n",
    "\n",
    "\n",
    "n = int(raw_input().strip())\n",
    "p = int(raw_input().strip())\n",
    "p = p/2 if p%2==0 else (p-1)/2\n",
    "n = n/2 if n%2==0 else (n-1)/2\n",
    "print(n-p if n-p<p else p)"
   ]
  },
  {
   "cell_type": "code",
   "execution_count": null,
   "metadata": {},
   "outputs": [],
   "source": [
    "# electrion shop\n",
    "def getMoneySpent(ks, ds, s):\n",
    "    su = 0\n",
    "    for k in ks:\n",
    "        for d in ds:\n",
    "            if (su < k+d <=s):\n",
    "                su = k + d\n",
    "    if su: return su \n",
    "    else: return \"-1\" \n",
    "    \n",
    "s,n,m = input().strip().split(' ')\n",
    "s,n,m = [int(s),int(n),int(m)]\n",
    "ks = list(map(int, input().strip().split(' ')))\n",
    "ds = list(map(int, input().strip().split(' ')))\n",
    "moneySpent = getMoneySpent(ks, ds, s) \n",
    "print (moneySpent)"
   ]
  },
  {
   "cell_type": "code",
   "execution_count": null,
   "metadata": {},
   "outputs": [],
   "source": [
    "# emmas super computer\n",
    "mport sys\n",
    "from copy import deepcopy\n",
    "n,m = map(int,raw_input().strip().split())\n",
    "a = [list(raw_input().strip()) for i in range(n)]\n",
    "ans=0\n",
    "for i in range(n):\n",
    "    for j in range(m):\n",
    "        if a[i][j]=='B':\n",
    "            continue\n",
    "        a1=deepcopy(a)\n",
    "        ct=1\n",
    "        a1[i][j]='B'\n",
    "        while j+ct<m and j-ct>=0 and a1[i][j+ct]=='G' and a1[i][j-ct]=='G' and i+ct<n and i-ct>=0 and a1[i+ct][j]=='G' and a1[i-ct][j]=='G':\n",
    "            a1[i][j+ct]='B'\n",
    "            a1[i][j-ct]='B'\n",
    "            a1[i+ct][j]='B'\n",
    "            a1[i-ct][j]='B'\n",
    "            ct+=1\n",
    "        ct-=1\n",
    "        ctt=-1\n",
    "        for x in range(n):\n",
    "            for y in range(m):\n",
    "                if a1[x][y]=='B':\n",
    "                    continue\n",
    "                pt=1\n",
    "                while y+pt<m and y-pt>=0 and a1[x][y+pt]=='G' and a1[x][y-pt]=='G' and x+pt<n and x-pt>=0 and a1[x+pt][y]=='G' and a1[x-pt][y]=='G':\n",
    "                    pt+=1\n",
    "                pt-=1\n",
    "                ctt=max(ctt,pt)\n",
    "        if ctt>=0:\n",
    "            ans=max(ans,(4*ct+1)*(4*ctt+1))\n",
    "print ans"
   ]
  },
  {
   "cell_type": "code",
   "execution_count": null,
   "metadata": {},
   "outputs": [],
   "source": [
    "import math\n",
    "\n",
    "s = raw_input().strip().replace(' ', '')\n",
    "cols = int(math.ceil(len(s) ** 0.5))\n",
    "\n",
    "for i in range(cols):\n",
    "    print ''.join([s[x] for x in range(i, len(s), cols)]),"
   ]
  },
  {
   "cell_type": "code",
   "execution_count": null,
   "metadata": {},
   "outputs": [],
   "source": [
    "from collections import Counter\n",
    "\n",
    "n, a = int(input()), list(map(int, input().split()))\n",
    "print(min(n - cnt for x, cnt in Counter(a).items()))"
   ]
  },
  {
   "cell_type": "code",
   "execution_count": null,
   "metadata": {},
   "outputs": [],
   "source": [
    "import math\n",
    "\n",
    "\n",
    "n = int(raw_input().strip())\n",
    "print math.factorial(n)"
   ]
  },
  {
   "cell_type": "code",
   "execution_count": null,
   "metadata": {},
   "outputs": [],
   "source": [
    "import sys\n",
    "\n",
    "\n",
    "N = int(raw_input().strip())\n",
    "B = map(int,raw_input().strip().split(' '))\n",
    "\n",
    "ans = 0\n",
    "\n",
    "for i in xrange(N-1):\n",
    "    if B[i]%2 == 1:\n",
    "        B[i] += 1\n",
    "        B[i+1] += 1\n",
    "        ans += 2\n",
    "        \n",
    "if B[N-1] % 2 == 1:\n",
    "    print \"NO\"\n",
    "else:\n",
    "    print ans"
   ]
  },
  {
   "cell_type": "code",
   "execution_count": null,
   "metadata": {},
   "outputs": [],
   "source": [
    "# find digits\n",
    "import sys\n",
    "\n",
    "def check(a):\n",
    "    s = 0\n",
    "    for i in str(a):\n",
    "        i = int(i)\n",
    "        if i != 0 and a % i == 0:\n",
    "            s = s + 1\n",
    "    return s\n",
    "\n",
    "t = int(raw_input().strip())\n",
    "for a0 in xrange(t):\n",
    "    n = int(raw_input().strip())\n",
    "    print check(n)"
   ]
  },
  {
   "cell_type": "code",
   "execution_count": null,
   "metadata": {},
   "outputs": [],
   "source": [
    "# flatland space\n",
    "import sys\n",
    "\n",
    "n,m = raw_input().strip().split(' ')\n",
    "n,m = [int(n),int(m)]\n",
    "c = sorted(map(int,raw_input().strip().split(' ')))\n",
    "\n",
    "last = 0\n",
    "res = c[0]\n",
    "for x in c:\n",
    "    res = max(res, (x-last)/2)\n",
    "    last = x\n",
    "res = max(res, (n-1-last))\n",
    "print res"
   ]
  },
  {
   "cell_type": "code",
   "execution_count": null,
   "metadata": {},
   "outputs": [],
   "source": [
    "# forming an magic cquare\n",
    "from itertools import *\n",
    "\n",
    "X = []\n",
    "X.extend(list(map(int,input().split())))\n",
    "X.extend(list(map(int,input().split())))\n",
    "X.extend(list(map(int,input().split())))\n",
    "\n",
    "Ans = 81\n",
    "for P in permutations(range(1,10)):\n",
    "    if sum(P[0:3]) == 15 and sum(P[3:6]) == 15 and sum(P[0::3]) == 15 and sum(P[1::3]) == 15 and P[0] + P[4] + P[8] == 15 and (P[2] + P[4] + P[6] == 15):\n",
    "        Ans = min(Ans, sum(abs(P[i] - X[i]) for i in range(0,9)))\n",
    "print(Ans)"
   ]
  },
  {
   "cell_type": "code",
   "execution_count": null,
   "metadata": {},
   "outputs": [],
   "source": [
    "# happy lady bug\n",
    "import sys\n",
    "from collections import Counter\n",
    "\n",
    "Q = int(input().strip())\n",
    "for a0 in range(Q):\n",
    "    n = int(input().strip())\n",
    "    b = input().strip()\n",
    "    #print(b)\n",
    "    counts = Counter(b)\n",
    "    #print (counts\n",
    "    flag = False\n",
    "    f = False;\n",
    "    cntS = 0\n",
    "    for k,v in counts.items():\n",
    "        if(k != '_' and v == 1):\n",
    "            print (\"NO\")\n",
    "            flag = True\n",
    "            break\n",
    "        elif(k == '_'):\n",
    "            cntS += 1\n",
    "    \n",
    "    if(cntS == n and flag == False):\n",
    "        print(\"YES\")\n",
    "        flag = True\n",
    "    elif(flag == False):\n",
    "        if(cntS == 0):\n",
    "            i = 0\n",
    "            while(i<n-1):\n",
    "                \n",
    "                if(b[i] == b[i+1]):\n",
    "                    while(i < n-1 and b[i] == b[i+1] ):\n",
    "                        #print(i)\n",
    "                        i += 1\n",
    "                else: \n",
    "                    print(\"NO\")\n",
    "                    f = True\n",
    "                    break\n",
    "                i += 1\n",
    "                \n",
    "    if(flag == False and f == False):\n",
    "        print(\"YES\")"
   ]
  },
  {
   "cell_type": "code",
   "execution_count": null,
   "metadata": {},
   "outputs": [],
   "source": [
    "# humping on cloud\n",
    "import sys\n",
    "\n",
    "\n",
    "N = int(raw_input().strip())\n",
    "A = map(int,raw_input().strip().split(' '))\n",
    "#1 if bad\n",
    "memo = {}\n",
    "def dp(x):\n",
    "    #min from x\n",
    "    if x == N-1: return 0\n",
    "    if x >= N: return 10000000\n",
    "    if x in memo: return memo[x]\n",
    "    ans = 1000000\n",
    "    if not A[x+1]: ans = 1+min(ans, dp(x+1))\n",
    "    if x+2 < N and not A[x+2]: ans = 1+min(ans,dp(x+2))\n",
    "    memo[x] = ans\n",
    "    return ans\n",
    "print dp(0)"
   ]
  },
  {
   "cell_type": "code",
   "execution_count": null,
   "metadata": {},
   "outputs": [],
   "source": [
    "# jumping on clound revisited\n",
    "import sys\n",
    "\n",
    "\n",
    "n,k = raw_input().strip().split(' ')\n",
    "n,k = [int(n),int(k)]\n",
    "c = map(int,raw_input().strip().split(' '))\n",
    "ans = 99\n",
    "if c[0] == 1:\n",
    "    ans -= 2\n",
    "i = k%n\n",
    "while i != 0:\n",
    "    ans -= 1\n",
    "    if c[i] == 1:\n",
    "        ans -= 2\n",
    "    i = (i+k)%n\n",
    "print ans"
   ]
  },
  {
   "cell_type": "code",
   "execution_count": null,
   "metadata": {},
   "outputs": [],
   "source": [
    "# kangaroo\n",
    "import sys\n",
    "\n",
    "\n",
    "x1,v1,x2,v2 = raw_input().strip().split(' ')\n",
    "x1,v1,x2,v2 = [int(x1),int(v1),int(x2),int(v2)]\n",
    "if x1 > x2:\n",
    "    x2,x1 = x1,x2\n",
    "    v2,v1 = v1,v2\n",
    "\n",
    "#if x1 == 43 and v1 == 2 and x2 == 70 and v2 == 2:\n",
    "        #print \"NO\"\n",
    "        \n",
    "elif v2 >= v1:\n",
    "    print \"NO\"\n",
    "    \n",
    "else:\n",
    "    c = 0\n",
    "    while x1 <= x2:\n",
    "        if x1 == x2:\n",
    "            c = 1\n",
    "            break\n",
    "        x1 += v1\n",
    "        x2 += v2\n",
    "    if c == 1:\n",
    "        print \"YES\"\n",
    "    else:\n",
    "        print \"NO\""
   ]
  },
  {
   "cell_type": "code",
   "execution_count": null,
   "metadata": {},
   "outputs": [],
   "source": [
    "# library fine\n",
    "def calcFine(Ddiff, Mdiff, Ydiff):\n",
    "    fine = 0\n",
    "    if   Ydiff > 0: fine += 10000\n",
    "    elif Ydiff < 0: return 0\n",
    "    elif Mdiff > 0: fine += 500 * Mdiff\n",
    "    elif Mdiff < 0: return 0\n",
    "    elif Ddiff > 0: fine += 15 * Ddiff\n",
    "    else: return 0\n",
    "    return fine\n",
    "\n",
    "Da, Ma, Ya = map(int, raw_input().split())\n",
    "De, Me, Ye = map(int, raw_input().split())\n",
    "print calcFine(Da - De, Ma - Me, Ya - Ye)"
   ]
  },
  {
   "cell_type": "code",
   "execution_count": null,
   "metadata": {},
   "outputs": [],
   "source": [
    "# lias workbook\n",
    "def lisas_workbook(n,k,a):\n",
    "\n",
    "    num_special=0\n",
    "    cur_page=1\n",
    "\n",
    "    for i in range(len(a)):\n",
    "\n",
    "        num_probs_in_chapter=a[i]\n",
    "        num_full_pages, leftover_probs = divmod(num_probs_in_chapter, k)\n",
    "\n",
    "        total_pages = num_full_pages + ( 1 if leftover_probs else 0 )\n",
    "        problems_in_chapter=iter(range(1, a[i]+1))\n",
    "\n",
    "        for _ in range(total_pages):\n",
    "            probs_on_page = [next(problems_in_chapter, None) for _ in range(k)]    \n",
    "            if cur_page in probs_on_page:\n",
    "                num_special+=1\n",
    "            cur_page+=1        \n",
    "    return num_special\n",
    "\n",
    "def splitit(a):\n",
    "    l = []\n",
    "    for i in a:\n",
    "        l += [int(i)]\n",
    "    return l\n",
    "n = splitit(raw_input().split())\n",
    "l = splitit(raw_input().split())\n",
    "\n",
    "print lisas_workbook(n[0],n[1],l)"
   ]
  },
  {
   "cell_type": "code",
   "execution_count": null,
   "metadata": {},
   "outputs": [],
   "source": [
    "T = int(raw_input())\n",
    "for _ in range(T):\n",
    "    N = input()\n",
    "    a = input()\n",
    "    b = input()\n",
    "\n",
    "    val = set([0])\n",
    "    for i in range(2,N+1):\n",
    "        val = set([x + a for x in val]) | set([x + b for x in val])\n",
    "    print ' '.join(map(str, sorted(val)))"
   ]
  },
  {
   "cell_type": "code",
   "execution_count": null,
   "metadata": {},
   "outputs": [],
   "source": [
    "rows, cols, rotations = [int(x) for x in input().strip().split(\" \")]\n",
    "num_layers = int(min(rows, cols)/2)\n",
    "layers = [[] for x in range(num_layers)]\n",
    "data = []\n",
    "for row in range(rows):\n",
    "    data.append([int(x) for x in input().strip().split(\" \")])\n",
    "\n",
    "rows -= 1\n",
    "cols -= 1\n",
    "\n",
    "for current_layer in range(num_layers):\n",
    "    i = j = current_layer\n",
    "    while i < rows-current_layer:\n",
    "        layers[current_layer].append(data[i][j])\n",
    "        i += 1\n",
    "    while j < cols-current_layer:\n",
    "        layers[current_layer].append(data[i][j])\n",
    "        j += 1\n",
    "    while i > current_layer:\n",
    "        layers[current_layer].append(data[i][j])\n",
    "        i -= 1\n",
    "    while j > current_layer:\n",
    "        layers[current_layer].append(data[i][j])\n",
    "        j -= 1\n",
    "\n",
    "new_layers = []\n",
    "for layer in layers:\n",
    "    rots = rotations%len(layer)\n",
    "    new_layers.append(list(layer[-rots:] + layer[:-rots]))\n",
    "\n",
    "for current_layer in range(num_layers):\n",
    "    i = j = current_layer\n",
    "    while i < rows-current_layer:\n",
    "        data[i][j] = new_layers[current_layer].pop(0)\n",
    "        i += 1\n",
    "    while j < cols-current_layer:\n",
    "        data[i][j] = new_layers[current_layer].pop(0)\n",
    "        j += 1\n",
    "    while i > current_layer:\n",
    "        data[i][j] = new_layers[current_layer].pop(0)\n",
    "        i -= 1\n",
    "    while j > current_layer:\n",
    "        data[i][j] = new_layers[current_layer].pop(0)\n",
    "        j -= 1  \n",
    "\n",
    "for row in range(rows+1):\n",
    "    for col in range(cols+1):\n",
    "        print(data[row][col], end=\" \")\n",
    "    print()"
   ]
  },
  {
   "cell_type": "code",
   "execution_count": null,
   "metadata": {},
   "outputs": [],
   "source": [
    "n = int(input().strip())\n",
    "types = list(map(int, input().strip().split(' ')))\n",
    "m = 0\n",
    "v = 0\n",
    "for i in range(1,6):\n",
    "    t = types.count(i)\n",
    "    if t > m:\n",
    "        v = i\n",
    "        m = t\n",
    "print(v)"
   ]
  },
  {
   "cell_type": "code",
   "execution_count": null,
   "metadata": {},
   "outputs": [],
   "source": [
    "# min distance\n",
    "import math\n",
    "\n",
    "\n",
    "n = int(raw_input().strip())\n",
    "A = map(int,raw_input().strip().split(' '))\n",
    "m = n+1\n",
    "for i in xrange(n-1):\n",
    "    for j in xrange(i+1,n):\n",
    "        if A[i] == A[j] and m > math.fabs(i-j):\n",
    "            m = math.fabs(i-j)\n",
    "if m == n+1: print -1\n",
    "else: print int(m)"
   ]
  },
  {
   "cell_type": "code",
   "execution_count": null,
   "metadata": {},
   "outputs": [],
   "source": [
    "# modified karpaker number\n",
    "p=int(input())\n",
    "q=int(input())\n",
    "flag = True\n",
    "for i in range(p,q+1):\n",
    "    sq = i*i\n",
    "    s=str(sq)\n",
    "    if sq < 10:\n",
    "        s = '0'+s\n",
    "    l = s[0:int(len(s)/2)]\n",
    "    r = s[int(len(s)/2):]\n",
    "    if int(l)+int(r) == i:\n",
    "        print (i , end = ' ')\n",
    "        flag = False\n",
    "if flag:\n",
    "    print (\"INVALID RANGE\")"
   ]
  },
  {
   "cell_type": "code",
   "execution_count": null,
   "metadata": {},
   "outputs": [],
   "source": [
    "# non div subset\n",
    "import sys\n",
    "\n",
    "\n",
    "n,k = raw_input().strip().split(' ')\n",
    "n,k = [int(n),int(k)]\n",
    "a = map(int,raw_input().strip().split(' '))\n",
    "cnt = [0]*k\n",
    "for x in a:\n",
    "    cnt[x % k] += 1\n",
    "i, j, r = 1, k-1, 0\n",
    "if cnt[0] > 0:\n",
    "    r += 1\n",
    "while i < j:\n",
    "    r += max(cnt[i],cnt[j])\n",
    "    i, j = i+1, j-1\n",
    "if i == j and cnt[i] > 0:\n",
    "    r += 1\n",
    "print r"
   ]
  },
  {
   "cell_type": "code",
   "execution_count": null,
   "metadata": {},
   "outputs": [],
   "source": [
    "# organising contaion of ball\n",
    "q = int(input().strip())\n",
    "\n",
    "for x in range(q):\n",
    "    \n",
    "    n = int(input().strip())\n",
    "    m = []\n",
    "    rowsum = [0]*n\n",
    "    colsum = [0]*n\n",
    "    \n",
    "    for i in range(n):\n",
    "        m.append(list(map(int,input().strip().split(' '))))\n",
    "        rowsum[i] = sum(m[-1])\n",
    "        colsum = list(map(lambda a, b: a+b, colsum, m[-1]))\n",
    "        \n",
    "    rowsum.sort()\n",
    "    colsum.sort()\n",
    "    \n",
    "    if rowsum == colsum:\n",
    "        print('Possible')\n",
    "    else:\n",
    "        print('Impossible')"
   ]
  },
  {
   "cell_type": "code",
   "execution_count": null,
   "metadata": {},
   "outputs": [],
   "source": [
    "# picking number\n",
    "from collections import Counter\n",
    "\n",
    "n = int(input().strip())\n",
    "a = [int(a_temp) for a_temp in input().strip().split(' ')]\n",
    "counter = Counter(a)\n",
    "keys = list(counter.keys())\n",
    "print(max([counter[keys[i]] + counter[keys[i+1]] for i in range(len(keys)-1) if keys[i+1]-keys[i]==1] +list(counter.values())))"
   ]
  },
  {
   "cell_type": "code",
   "execution_count": null,
   "metadata": {},
   "outputs": [],
   "source": [
    "# wueen attack\n",
    "import sys\n",
    "\n",
    "\n",
    "n,k = input().strip().split(' ')\n",
    "n,k = [int(n),int(k)]\n",
    "rQueen,cQueen = input().strip().split(' ')\n",
    "rQueen,cQueen = [int(rQueen),int(cQueen)]\n",
    "ObList = []\n",
    "for a0 in range(k):\n",
    "    rObstacle,cObstacle = input().strip().split(' ')\n",
    "    rObstacle,cObstacle = [int(rObstacle),int(cObstacle)]\n",
    "    # your code goes here\n",
    "    ObList.append((rObstacle,cObstacle))\n",
    "ObSet = set(ObList)\n",
    "Delta = [(0,1),(1,1),(1,0),(0,-1),(-1,-1),(-1,0),(1,-1),(-1,1)]\n",
    "Count = 0\n",
    "for shift in Delta:\n",
    "    Pos = (rQueen,cQueen)\n",
    "    while Pos[0] + shift[0] >=1 and Pos[0] + shift[0] <= n and Pos[1] + shift[1] >=1 and Pos[1] + shift[1] <= n:\n",
    "        Pos = (Pos[0]+shift[0],Pos[1]+shift[1])\n",
    "        if Pos in ObSet:\n",
    "            break\n",
    "        Count += 1\n",
    "print(Count)"
   ]
  },
  {
   "cell_type": "code",
   "execution_count": null,
   "metadata": {},
   "outputs": [],
   "source": [
    "for i in range(input()):\n",
    "    a,b,c = map(int, raw_input().split())\n",
    "    d = (c + (b % a) - 1)%a\n",
    "    if d > 0:\n",
    "        print d\n",
    "    else:\n",
    "        print a"
   ]
  },
  {
   "cell_type": "code",
   "execution_count": null,
   "metadata": {},
   "outputs": [],
   "source": [
    "n = int(input())\n",
    "l = list(map(int,input().split()))\n",
    "for i in range(n):\n",
    "    print(l.index(l.index(i+1)+1)+1)"
   ]
  },
  {
   "cell_type": "code",
   "execution_count": null,
   "metadata": {},
   "outputs": [],
   "source": [
    "import sys\n",
    "\n",
    "\n",
    "n,t = raw_input().strip().split(' ')\n",
    "n,t = [int(n),int(t)]\n",
    "width = map(int,raw_input().strip().split(' '))\n",
    "for a0 in xrange(t):\n",
    "    i,j = raw_input().strip().split(' ')\n",
    "    i,j = [int(i),int(j)]\n",
    "    m = 3\n",
    "    for k in range(i,j+1):\n",
    "        if m > width[k]:\n",
    "            m = width[k]\n",
    "    print m"
   ]
  },
  {
   "cell_type": "code",
   "execution_count": null,
   "metadata": {},
   "outputs": [],
   "source": [
    "# sherlok\n",
    "n = int(input().strip())\n",
    "c = [int(c_temp) for c_temp in input().strip().split(' ')]\n",
    "b = set(c)\n",
    "co = 0\n",
    "for i in b:\n",
    "    co += c.count(i)//2\n",
    "print (co)"
   ]
  },
  {
   "cell_type": "code",
   "execution_count": null,
   "metadata": {},
   "outputs": [],
   "source": [
    "t = int(raw_input())\n",
    "\n",
    "phase = 3\n",
    "while t > phase:\n",
    "    t -= phase\n",
    "    phase *= 2\n",
    "\n",
    "print phase - t + 1"
   ]
  },
  {
   "cell_type": "code",
   "execution_count": null,
   "metadata": {},
   "outputs": [],
   "source": [
    "# bomberman game\n",
    "def bomb(r, c, grid, t):\n",
    "    complete_grid = [ [\"O\"]*c for i in range(r) ]\n",
    "    stable_grid = [ [\"O\"]*c for i in range(r) ]\n",
    "    other_grid = [ [\"O\"]*c for i in range(r) ]\n",
    "    for i in range(r):\n",
    "        for j in range(c):\n",
    "            if grid[i][j] == \"O\":\n",
    "                other_grid[i][j] = \".\"\n",
    "                if i>0:\n",
    "                    other_grid[i-1][j] = \".\"\n",
    "                if j>0:\n",
    "                    other_grid[i][j-1] = \".\"\n",
    "                if i<r-1:\n",
    "                    other_grid[i+1][j] = \".\"\n",
    "                if j<c-1:\n",
    "                    other_grid[i][j+1] = \".\"\n",
    "    for i in range(r):\n",
    "        for j in range(c):\n",
    "            if other_grid[i][j] == \"O\":\n",
    "                stable_grid[i][j] = \".\"\n",
    "                if i>0:\n",
    "                    stable_grid[i-1][j] = \".\"\n",
    "                if j>0:\n",
    "                    stable_grid[i][j-1] = \".\"\n",
    "                if i<r-1:\n",
    "                    stable_grid[i+1][j] = \".\"\n",
    "                if j<c-1:\n",
    "                    stable_grid[i][j+1] = \".\"\n",
    "    #print grid\n",
    "    #print complete_grid\n",
    "    #print other_grid\n",
    "    if t==0 or t==1:\n",
    "        return grid\n",
    "    if (t-1)%2==0 and not (t-1)%4==0:\n",
    "        return other_grid\n",
    "    if (t-1)%4==0:\n",
    "        return stable_grid\n",
    "    if t%2==0:\n",
    "        return complete_grid\n",
    "grid = []\n",
    "r, c, t = map(int, raw_input().split())\n",
    "for _ in range(r):\n",
    "    row = [ l for l in raw_input() ]\n",
    "    grid.append(row)\n",
    "res = \"\\n\".join([ \"\".join(line) for line in bomb(r, c, grid, t) ]) \n",
    "print res"
   ]
  },
  {
   "cell_type": "code",
   "execution_count": null,
   "metadata": {},
   "outputs": [],
   "source": [
    "def solve(R, C, G, r, c, P):\n",
    "    for i in xrange(R-r+1):\n",
    "        for j in xrange(C-c+1):\n",
    "            found = True\n",
    "            for k in xrange(r):\n",
    "                if P[k] != G[i+k][j:j+c]:\n",
    "                    found = False\n",
    "                    break\n",
    "            if found:\n",
    "                return \"YES\"\n",
    "    return \"NO\"\n",
    "            \n",
    "T = int(raw_input())\n",
    "for _ in xrange(T):\n",
    "    R, C = (int(x) for x in raw_input().strip().split())\n",
    "    G = [raw_input().strip() for i in xrange(R)]\n",
    "    \n",
    "    r, c = (int(x) for x in raw_input().strip().split())\n",
    "    P = [raw_input().strip() for i in xrange(r)]\n",
    "    \n",
    "    print solve(R, C, G, r, c, P)"
   ]
  },
  {
   "cell_type": "code",
   "execution_count": null,
   "metadata": {},
   "outputs": [],
   "source": [
    "# Hurdel race\n",
    "import sys\n",
    "\n",
    "\n",
    "n,k = raw_input().strip().split(' ')\n",
    "n,k = [int(n),int(k)]\n",
    "height = map(int, raw_input().strip().split(' '))\n",
    "m = max(height)\n",
    "print(m-k if m>k else 0)"
   ]
  },
  {
   "cell_type": "code",
   "execution_count": null,
   "metadata": {},
   "outputs": [],
   "source": [
    "# Utopian tree\n",
    "h = int(raw_input().strip())\n",
    "m = int(raw_input().strip())\n",
    "\n",
    "d = dict(enumerate(['one', 'two', \"three\", \"four\", 'five', \"six\",\"seven\",\"eight\", \"nine\",\"ten\",\"eleven\",\"twelve\", 'thirteen', 'fourteen'], 1))\n",
    "\n",
    "if m == 0:\n",
    "    print \"{} o' clock\".format(d[h])\n",
    "elif m == 1:\n",
    "    print \"one minute past {}\".format(d[h])\n",
    "elif 1 < m < 15:\n",
    "    print '{0} minutes past {1}'.format(d[m], d[h])\n",
    "elif m == 15:\n",
    "    print 'quarter past {}'.format(d[h])\n",
    "elif 15 < m < 20:\n",
    "    print '{0}teen minutes past {1}'.format(d[m-10], d[h])\n",
    "elif m == 20:\n",
    "    print 'twenty minutes past {}'.format(d[h])\n",
    "elif 20 < m < 30:\n",
    "    print 'twenty {0} minutes past {1}'.format(d[m-20], d[h])\n",
    "elif m == 30:\n",
    "    print 'half past {}'.format(d[h])\n",
    "elif 30 < m < 40:\n",
    "    print 'twenty {0} minutes to {1}'.format(d[40-m], d[h+1])\n",
    "elif m == 40:\n",
    "    print 'twenty minutes to {}'.format(d[h+1])\n",
    "elif 40 < m < 45:\n",
    "    print '{0}teen minutes to {1}'.format(d[h])\n",
    "elif m == 45:\n",
    "    print 'quarter to {}'.format(d[h+1])\n",
    "elif 45 < m < 59:\n",
    "    print '{0} minutes to {1}'.format(d[60-m], d[h+1])\n",
    "elif m == 59:\n",
    "    print \"one minute to {}\".format(d[h+1])"
   ]
  },
  {
   "cell_type": "code",
   "execution_count": null,
   "metadata": {},
   "outputs": [],
   "source": [
    "# Viral advertising\n",
    "m = 2\n",
    "t = 2\n",
    "for i in range(int(input())-1):\n",
    "    t = int(3*t/2)\n",
    "    m += t\n",
    "print(m)"
   ]
  },
  {
   "cell_type": "code",
   "execution_count": null,
   "metadata": {},
   "outputs": [],
   "source": [
    "# bigger is greater\n",
    "for _ in range(int(input())):\n",
    "    s = input()\n",
    "    has_greater = False\n",
    "    for i in range(len(s)-1)[::-1]:\n",
    "        if ord(s[i]) < ord(s[i+1]):\n",
    "            for j in range(i+1,len(s))[::-1]:\n",
    "                if ord(s[i]) < ord(s[j]):\n",
    "                    lis = list(s)\n",
    "                    lis[i],lis[j]=lis[j],lis[i]\n",
    "                    print(\"\".join(lis[:i+1]+lis[i+1:][::-1]))\n",
    "                    has_greater = True\n",
    "                if has_greater == True:\n",
    "                    break\n",
    "        if has_greater == True:\n",
    "            break\n",
    "    if has_greater == False:\n",
    "        print(\"no answer\")"
   ]
  }
 ],
 "metadata": {
  "kernelspec": {
   "display_name": "Python 3",
   "language": "python",
   "name": "python3"
  },
  "language_info": {
   "codemirror_mode": {
    "name": "ipython",
    "version": 3
   },
   "file_extension": ".py",
   "mimetype": "text/x-python",
   "name": "python",
   "nbconvert_exporter": "python",
   "pygments_lexer": "ipython3",
   "version": "3.8.5"
  }
 },
 "nbformat": 4,
 "nbformat_minor": 4
}
